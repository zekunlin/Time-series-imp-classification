{
 "cells": [
  {
   "cell_type": "markdown",
   "metadata": {},
   "source": [
    "# 1. Pre-steps\n",
    "Including importing packages, login to the NASA Earthdata system, and get the token needed. Before you start, make sure you have registered an account in NASA Earthdata website: https://lpdaacsvc.cr.usgs.gov/appeears/"
   ]
  },
  {
   "cell_type": "code",
   "execution_count": null,
   "metadata": {},
   "outputs": [],
   "source": [
    "import requests as r\n",
    "import getpass, pprint, time, os, cgi, json\n",
    "import geopandas as gpd\n",
    "\n",
    "# Enter Earth Data login Credentials\n",
    "username = getpass.getpass('Earthdata Username:')\n",
    "password = getpass.getpass('Earthdata Password:')\n",
    "\n",
    "api = 'https://lpdaacsvc.cr.usgs.gov/appeears/api/'  # Set the AρρEEARS API to a variable\n",
    "\n",
    "token_response = r.post('{}login'.format(api), auth=(username, password)).json() # Insert API URL, call login service, provide credentials & return json\n",
    "del username, password                                                           # Remove user and password information\n",
    "token_response "
   ]
  },
  {
   "cell_type": "markdown",
   "metadata": {},
   "source": [
    "# 2. Query available products\n",
    "This section includes search available products and their layers. The most important thing in this section is to format the variable that stores products and layers we need. We will store this information in a variable named `prodLayer`, if you already know which product and layer to use, just formant the `prodLayer` variable as the example below.\n",
    "## 2a. Search and explore available products"
   ]
  },
  {
   "cell_type": "code",
   "execution_count": 27,
   "metadata": {
    "tags": []
   },
   "outputs": [
    {
     "name": "stdout",
     "output_type": "stream",
     "text": [
      "AρρEEARS currently supports 119 products.\n"
     ]
    }
   ],
   "source": [
    "product_response = r.get('{}product'.format(api)).json()                         # request all products in the product service\n",
    "print('AρρEEARS currently supports {} products.'.format(len(product_response)))  # Print no. products available in AppEEARS\n"
   ]
  },
  {
   "cell_type": "markdown",
   "metadata": {},
   "source": [
    "An example of a product's format in json:"
   ]
  },
  {
   "cell_type": "code",
   "execution_count": 28,
   "metadata": {},
   "outputs": [
    {
     "data": {
      "text/plain": [
       "{'Product': 'MCD15A3H',\n",
       " 'Platform': 'Combined MODIS',\n",
       " 'Description': 'Leaf Area Index (LAI) and Fraction of Photosynthetically Active Radiation (FPAR)',\n",
       " 'RasterType': 'Tile',\n",
       " 'Resolution': '500m',\n",
       " 'TemporalGranularity': '4 day',\n",
       " 'Version': '006',\n",
       " 'Available': True,\n",
       " 'DocLink': 'https://doi.org/10.5067/MODIS/MCD15A3H.006',\n",
       " 'Source': 'LP DAAC',\n",
       " 'TemporalExtentStart': '2002-07-04',\n",
       " 'TemporalExtentEnd': 'Present',\n",
       " 'Deleted': False,\n",
       " 'DOI': '10.5067/MODIS/MCD15A3H.006',\n",
       " 'ProductAndVersion': 'MCD15A3H.006'}"
      ]
     },
     "execution_count": 28,
     "metadata": {},
     "output_type": "execute_result"
    }
   ],
   "source": [
    "products = {p['ProductAndVersion']: p for p in product_response} # Create a dictionary indexed by product name & version\n",
    "products['MCD15A3H.006']                                         # Print information for MCD15A3H.006 LAI/FPAR Product"
   ]
  },
  {
   "cell_type": "markdown",
   "metadata": {},
   "source": [
    "We can search for specific products using keywords or strings. For example, here we search for products containing \"Leaf Area Index\" in the `Description`."
   ]
  },
  {
   "cell_type": "code",
   "execution_count": 30,
   "metadata": {
    "tags": []
   },
   "outputs": [
    {
     "name": "stdout",
     "output_type": "stream",
     "text": [
      "{'Available': True,\n",
      " 'DOI': '10.5067/VIIRS/VNP15A2H.001',\n",
      " 'Deleted': False,\n",
      " 'Description': 'Leaf Area Index (LAI) and Fraction of Photosynthetically '\n",
      "                'Active Radiation (FPAR)',\n",
      " 'DocLink': 'https://doi.org/10.5067/viirs/vnp15a2h.001',\n",
      " 'Platform': 'S-NPP NASA VIIRS',\n",
      " 'Product': 'VNP15A2H',\n",
      " 'ProductAndVersion': 'VNP15A2H.001',\n",
      " 'RasterType': 'Tile',\n",
      " 'Resolution': '500m',\n",
      " 'Source': 'LP DAAC',\n",
      " 'TemporalExtentEnd': 'Present',\n",
      " 'TemporalExtentStart': '2012-01-19',\n",
      " 'TemporalGranularity': '8 day',\n",
      " 'Version': '001'}\n",
      "{'Available': True,\n",
      " 'DOI': '10.5067/MODIS/MCD15A3H.006',\n",
      " 'Deleted': False,\n",
      " 'Description': 'Leaf Area Index (LAI) and Fraction of Photosynthetically '\n",
      "                'Active Radiation (FPAR)',\n",
      " 'DocLink': 'https://doi.org/10.5067/MODIS/MCD15A3H.006',\n",
      " 'Platform': 'Combined MODIS',\n",
      " 'Product': 'MCD15A3H',\n",
      " 'ProductAndVersion': 'MCD15A3H.006',\n",
      " 'RasterType': 'Tile',\n",
      " 'Resolution': '500m',\n",
      " 'Source': 'LP DAAC',\n",
      " 'TemporalExtentEnd': 'Present',\n",
      " 'TemporalExtentStart': '2002-07-04',\n",
      " 'TemporalGranularity': '4 day',\n",
      " 'Version': '006'}\n",
      "{'Available': True,\n",
      " 'DOI': '10.5067/MODIS/MCD15A2H.006',\n",
      " 'Deleted': False,\n",
      " 'Description': 'Leaf Area Index (LAI) and Fraction of Photosynthetically '\n",
      "                'Active Radiation (FPAR)',\n",
      " 'DocLink': 'https://doi.org/10.5067/MODIS/MCD15A2H.006',\n",
      " 'Platform': 'Combined MODIS',\n",
      " 'Product': 'MCD15A2H',\n",
      " 'ProductAndVersion': 'MCD15A2H.006',\n",
      " 'RasterType': 'Tile',\n",
      " 'Resolution': '500m',\n",
      " 'Source': 'LP DAAC',\n",
      " 'TemporalExtentEnd': 'Present',\n",
      " 'TemporalExtentStart': '2002-07-04',\n",
      " 'TemporalGranularity': '8 day',\n",
      " 'Version': '006'}\n",
      "{'Available': True,\n",
      " 'DOI': '10.5067/MODIS/MOD15A2H.006',\n",
      " 'Deleted': False,\n",
      " 'Description': 'Leaf Area Index (LAI) and Fraction of Photosynthetically '\n",
      "                'Active Radiation (FPAR)',\n",
      " 'DocLink': 'https://doi.org/10.5067/MODIS/MOD15A2H.006',\n",
      " 'Platform': 'Terra MODIS',\n",
      " 'Product': 'MOD15A2H',\n",
      " 'ProductAndVersion': 'MOD15A2H.006',\n",
      " 'RasterType': 'Tile',\n",
      " 'Resolution': '500m',\n",
      " 'Source': 'LP DAAC',\n",
      " 'TemporalExtentEnd': 'Present',\n",
      " 'TemporalExtentStart': '2000-02-18',\n",
      " 'TemporalGranularity': '8 day',\n",
      " 'Version': '006'}\n",
      "{'Available': True,\n",
      " 'DOI': '10.5067/MODIS/MYD15A2H.006',\n",
      " 'Deleted': False,\n",
      " 'Description': 'Leaf Area Index (LAI) and Fraction of Photosynthetically '\n",
      "                'Active Radiation (FPAR)',\n",
      " 'DocLink': 'https://doi.org/10.5067/MODIS/MYD15A2H.006',\n",
      " 'Platform': 'Aqua MODIS',\n",
      " 'Product': 'MYD15A2H',\n",
      " 'ProductAndVersion': 'MYD15A2H.006',\n",
      " 'RasterType': 'Tile',\n",
      " 'Resolution': '500m',\n",
      " 'Source': 'LP DAAC',\n",
      " 'TemporalExtentEnd': 'Present',\n",
      " 'TemporalExtentStart': '2002-07-04',\n",
      " 'TemporalGranularity': '8 day',\n",
      " 'Version': '006'}\n"
     ]
    }
   ],
   "source": [
    "prodNames = {p['ProductAndVersion'] for p in product_response}\n",
    "for p in prodNames:\n",
    "    if \"Leaf Area Index\" in products[p][\"Description\"]:\n",
    "        pprint.pprint(products[p])"
   ]
  },
  {
   "cell_type": "markdown",
   "metadata": {},
   "source": [
    "Now, using the above information, we can format the variable containing products we need. For example, here we select \"MCD15A3H.006\", \"MOD11A2.006\", and \"SRTMGL1_NC.003\":"
   ]
  },
  {
   "cell_type": "code",
   "execution_count": 31,
   "metadata": {},
   "outputs": [],
   "source": [
    "prods = [\"MCD15A3H.006\", \"MOD11A2.006\", \"SRTMGL1_NC.003\"]"
   ]
  },
  {
   "cell_type": "markdown",
   "metadata": {},
   "source": [
    "## 2b. Search and explore available layers\n",
    "Next step is to get the layers we want from those products. We start from searching their all available layers."
   ]
  },
  {
   "cell_type": "code",
   "execution_count": 32,
   "metadata": {},
   "outputs": [
    {
     "data": {
      "text/plain": [
       "['Clear_sky_days',\n",
       " 'Clear_sky_nights',\n",
       " 'Day_view_angl',\n",
       " 'Day_view_time',\n",
       " 'Emis_31',\n",
       " 'Emis_32',\n",
       " 'LST_Day_1km',\n",
       " 'LST_Night_1km',\n",
       " 'Night_view_angl',\n",
       " 'Night_view_time',\n",
       " 'QC_Day',\n",
       " 'QC_Night']"
      ]
     },
     "execution_count": 32,
     "metadata": {},
     "output_type": "execute_result"
    }
   ],
   "source": [
    "lst_response = r.get(\"{}product/{}\".format(api, prods[1])).json()\n",
    "list(lst_response.keys())"
   ]
  },
  {
   "cell_type": "markdown",
   "metadata": {},
   "source": [
    "If you want to check the information in a specific layer, you can do:"
   ]
  },
  {
   "cell_type": "code",
   "execution_count": 33,
   "metadata": {},
   "outputs": [
    {
     "data": {
      "text/plain": [
       "{'AddOffset': 0.0,\n",
       " 'Available': True,\n",
       " 'DataType': 'float32',\n",
       " 'Description': 'Day Land Surface Temperature',\n",
       " 'Dimensions': ['time', 'YDim', 'XDim'],\n",
       " 'FillValue': 0,\n",
       " 'IsQA': False,\n",
       " 'Layer': 'LST_Day_1km',\n",
       " 'OrigDataType': 'uint16',\n",
       " 'OrigValidMax': 65535,\n",
       " 'OrigValidMin': 7500,\n",
       " 'QualityLayers': \"['QC_Day']\",\n",
       " 'QualityProductAndVersion': 'MOD11A2.006',\n",
       " 'ScaleFactor': 0.02,\n",
       " 'Units': 'Kelvin',\n",
       " 'ValidMax': 1310.699951,\n",
       " 'ValidMin': 150.0,\n",
       " 'XSize': 1200,\n",
       " 'YSize': 1200}"
      ]
     },
     "execution_count": 33,
     "metadata": {},
     "output_type": "execute_result"
    }
   ],
   "source": [
    "lst_response[\"LST_Day_1km\"]"
   ]
  },
  {
   "cell_type": "markdown",
   "metadata": {},
   "source": [
    "Now, say we want 2 layers from this product: \"LST_Day_1km\" and \"LST_Night_1km\", we can do:"
   ]
  },
  {
   "cell_type": "code",
   "execution_count": 34,
   "metadata": {},
   "outputs": [],
   "source": [
    "layers = [(prods[1], \"LST_Day_1km\"), (prods[1], \"LST_Night_1km\")]"
   ]
  },
  {
   "cell_type": "markdown",
   "metadata": {},
   "source": [
    "Note: it is not required to store the product and layer information in a tupled list, but doing so wll make formatting json request later convinient."
   ]
  },
  {
   "cell_type": "markdown",
   "metadata": {},
   "source": [
    "We can use the same method to explore other products and their layers, now let's suppose we already done that and we got a tupled list that contains all products and layers we want:"
   ]
  },
  {
   "cell_type": "code",
   "execution_count": 36,
   "metadata": {},
   "outputs": [
    {
     "data": {
      "text/plain": [
       "[('MOD11A2.006', 'LST_Day_1km'),\n",
       " ('MOD11A2.006', 'LST_Night_1km'),\n",
       " ('MCD15A3H.006', 'Lai_500m'),\n",
       " ('SRTMGL1_NC.003', 'SRTMGL1_DEM')]"
      ]
     },
     "execution_count": 36,
     "metadata": {},
     "output_type": "execute_result"
    }
   ],
   "source": [
    "layers.append((prods[0], \"Lai_500m\"))\n",
    "layers.append((prods[2], \"SRTMGL1_DEM\"))\n",
    "layers"
   ]
  },
  {
   "cell_type": "markdown",
   "metadata": {},
   "source": [
    "THen we can format this tupled list to a json variable, we store them in the variable `prodLayer` we mentioned earlier in this document."
   ]
  },
  {
   "cell_type": "code",
   "execution_count": 37,
   "metadata": {},
   "outputs": [
    {
     "data": {
      "text/plain": [
       "[{'layer': 'LST_Day_1km', 'product': 'MOD11A2.006'},\n",
       " {'layer': 'LST_Night_1km', 'product': 'MOD11A2.006'},\n",
       " {'layer': 'Lai_500m', 'product': 'MCD15A3H.006'},\n",
       " {'layer': 'SRTMGL1_DEM', 'product': 'SRTMGL1_NC.003'}]"
      ]
     },
     "execution_count": 37,
     "metadata": {},
     "output_type": "execute_result"
    }
   ],
   "source": [
    "prodLayer = []\n",
    "for l in layers:\n",
    "    prodLayer.append({\n",
    "        \"layer\": l[1],\n",
    "        \"product\": l[0]\n",
    "    })\n",
    "prodLayer"
   ]
  },
  {
   "cell_type": "markdown",
   "metadata": {},
   "source": [
    "# 3. Submit an \"Area Request\"\n",
    "Now we have the products and layers we need, but before submitting the job to AppEEARS application, we need a region indicating our area of interest and a time period indicating the what are the time series we want.\n",
    "\n",
    "## 3a. import a shapefile\n",
    "Let's import a shapefile first, and subset the shapefile to the area of interest only, and convert it to json format."
   ]
  },
  {
   "cell_type": "code",
   "execution_count": 44,
   "metadata": {
    "tags": []
   },
   "outputs": [
    {
     "name": "stdout",
     "output_type": "stream",
     "text": [
      "UNIT_CODE                                          GIS_Notes  \\\n",
      "0        AMME  PRELIMINARY - Data has not completed the entir...   \n",
      "1        CEBE  Lands - http://landsnet.nps.gov/tractsnet/docu...   \n",
      "2        LIBI  Lands - http://landsnet.nps.gov/tractsnet/docu...   \n",
      "3        CAVO  Lands - http://landsnet.nps.gov/tractsnet/docu...   \n",
      "4        FOBO  Lands - http://landsnet.nps.gov/tractsnet/docu...   \n",
      "..        ...                                                ...   \n",
      "417      SLBE  Lands - http://landsnet.nps.gov/tractsnet/docu...   \n",
      "418      RICH  Lands - http://landsnet.nps.gov/tractsnet/docu...   \n",
      "419      APPA  Lands - http://landsnet.nps.gov/tractsnet/docu...   \n",
      "420      OBRI  PRELIMINARY - Data has not completed the entir...   \n",
      "421      SAMO  Lands - http://landsnet.nps.gov/tractsnet/docu...   \n",
      "\n",
      "                                             UNIT_NAME   DATE_EDIT STATE  \\\n",
      "0                               American Memorial Park  2015-04-22    MP   \n",
      "1    Cedar Creek and Belle Grove National Historica...  2005-04-07    VA   \n",
      "2         Little Bighorn Battlefield National Monument  2005-02-23    MT   \n",
      "3                    Capulin Volcano National Monument  2004-07-22    NM   \n",
      "4                    Fort Bowie National Historic Site  2004-05-12    AZ   \n",
      "..                                                 ...         ...   ...   \n",
      "417             Sleeping Bear Dunes National Lakeshore  2020-02-07    MI   \n",
      "418                 Richmond National Battlefield Park  2020-03-09    VA   \n",
      "419                  Appalachian National Scenic Trail  2020-03-26    ME   \n",
      "420                         Obed Wild and Scenic River  2013-12-18    TN   \n",
      "421    Santa Monica Mountains National Recreation Area  2020-03-12    CA   \n",
      "\n",
      "    REGION  GNIS_ID                  UNIT_TYPE CREATED_BY  \\\n",
      "0       PW  1879026                       Park      Lands   \n",
      "1       NE  1985663   National Historical Park      Lands   \n",
      "2       IM   806297          National Monument      Lands   \n",
      "3       IM   936867          National Monument      Lands   \n",
      "4       IM  1888916     National Historic Site      Lands   \n",
      "..     ...      ...                        ...        ...   \n",
      "417     MW   638101         National Lakeshore      Lands   \n",
      "418     NE  1473199  National Battlefield Park      Lands   \n",
      "419     NT  2766084      National Scenic Trail      Lands   \n",
      "420     SE  1309684      Wild and Scenic River      Lands   \n",
      "421     PW   277263   National Recreation Area      Lands   \n",
      "\n",
      "                                              METADATA  \\\n",
      "0    Preliminary data. Contact the Land Resources P...   \n",
      "1    https://irma.nps.gov/App/Reference/Profile/104...   \n",
      "2    https://irma.nps.gov/App/Reference/Profile/104...   \n",
      "3    https://irma.nps.gov/App/Reference/Profile/104...   \n",
      "4    https://irma.nps.gov/App/Reference/Profile/104...   \n",
      "..                                                 ...   \n",
      "417  https://irma.nps.gov/App/Reference/Profile/227...   \n",
      "418  https://irma.nps.gov/App/Reference/Profile/222...   \n",
      "419  https://irma.nps.gov/App/Reference/Profile/225...   \n",
      "420  Preliminary data. Contact the Land Resources P...   \n",
      "421  https://irma.nps.gov/App/Reference/Profile/227...   \n",
      "\n",
      "                       PARKNAME  Shape_Leng  Shape_Area  \\\n",
      "0        American Memorial Park    0.068391    0.000048   \n",
      "1     Cedar Creek & Belle Grove    0.434486    0.001460   \n",
      "2    Little Bighorn Battlefield    0.148934    0.000364   \n",
      "3               Capulin Volcano    0.087358    0.000323   \n",
      "4                    Fort Bowie    0.158227    0.000386   \n",
      "..                          ...         ...         ...   \n",
      "417         Sleeping Bear Dunes    2.662122    0.032558   \n",
      "418                    Richmond    1.459488    0.003381   \n",
      "419                 Appalachian   69.535673    0.128407   \n",
      "420                        Obed    1.589993    0.002170   \n",
      "421      Santa Monica Mountains    3.515966    0.060801   \n",
      "\n",
      "                                              geometry  \n",
      "0    POLYGON ((145.72350 15.22246, 145.72352 15.222...  \n",
      "1    MULTIPOLYGON (((-78.29500 39.01643, -78.29478 ...  \n",
      "2    MULTIPOLYGON (((-107.37935 45.52111, -107.3841...  \n",
      "3    POLYGON ((-103.98090 36.78529, -103.97642 36.7...  \n",
      "4    POLYGON ((-109.47905 32.15120, -109.48330 32.1...  \n",
      "..                                                 ...  \n",
      "417  MULTIPOLYGON (((-86.04482 44.80565, -86.04481 ...  \n",
      "418  MULTIPOLYGON (((-77.39120 37.34713, -77.39102 ...  \n",
      "419  MULTIPOLYGON (((-81.37088 36.88677, -81.37088 ...  \n",
      "420  POLYGON ((-84.90379 36.15658, -84.90271 36.155...  \n",
      "421  POLYGON ((-118.69808 34.15314, -118.69795 34.1...  \n",
      "\n",
      "[422 rows x 14 columns]\n"
     ]
    }
   ],
   "source": [
    "nps = gpd.read_file(\"/Users/xgao26/Downloads/nps_boundary/nps_boundary.shp\")\n",
    "print(nps)\n",
    "\n",
    "nps_gc = nps[nps[\"UNIT_NAME\"] == \"Grand Canyon National Park\"].to_json()\n",
    "nps_gc = json.loads(nps_gc)"
   ]
  },
  {
   "cell_type": "markdown",
   "metadata": {},
   "source": [
    "## 3b. Search and explore available projections"
   ]
  },
  {
   "cell_type": "code",
   "execution_count": 45,
   "metadata": {},
   "outputs": [
    {
     "data": {
      "text/plain": [
       "[{'Name': 'native',\n",
       "  'Description': 'Native Projection',\n",
       "  'Platforms': '',\n",
       "  'Proj4': '',\n",
       "  'Datum': '',\n",
       "  'EPSG': '',\n",
       "  'Units': '',\n",
       "  'GridMapping': '',\n",
       "  'Available': True},\n",
       " {'Name': 'geographic',\n",
       "  'Description': 'Geographic',\n",
       "  'Platforms': \"['SRTM', 'ECOSTRESS', 'SSEBop ET', 'GPW', 'ASTER GDEM', 'NASADEM']\",\n",
       "  'Proj4': '+proj=longlat +datum=WGS84 +no_defs',\n",
       "  'Datum': 'wgs84',\n",
       "  'EPSG': 4326.0,\n",
       "  'Units': 'degrees',\n",
       "  'GridMapping': 'latitude_longitude',\n",
       "  'Available': True},\n",
       " {'Name': 'sinu_modis',\n",
       "  'Description': 'MODIS Sinusoidal',\n",
       "  'Platforms': \"['Combined MODIS', 'Terra MODIS', 'Aqua MODIS', 'S-NPP NASA VIIRS', 'Global WELD']\",\n",
       "  'Proj4': '+proj=sinu +lon_0=0 +x_0=0 +y_0=0 +a=6371007.181 +b=6371007.181 +units=m +no_defs',\n",
       "  'Datum': '',\n",
       "  'EPSG': '',\n",
       "  'Units': 'meters',\n",
       "  'GridMapping': 'sinusoidal',\n",
       "  'Available': True},\n",
       " {'Name': 'albers_weld_alaska',\n",
       "  'Description': 'WELD Albers Equal Area Alaska',\n",
       "  'Platforms': \"['WELD']\",\n",
       "  'Proj4': '+proj=aea +lat_1=55 +lat_2=65 +lat_0=50 +lon_0=-154 +x_0=0 +y_0=0 +datum=WGS84 +units=m +no_defs',\n",
       "  'Datum': 'wgs84',\n",
       "  'EPSG': '',\n",
       "  'Units': 'meters',\n",
       "  'GridMapping': 'albers_conical_equal_area',\n",
       "  'Available': True},\n",
       " {'Name': 'albers_weld_conus',\n",
       "  'Description': 'WELD Albers Equal Area CONUS',\n",
       "  'Platforms': \"['WELD']\",\n",
       "  'Proj4': '+proj=aea +lat_1=29.5 +lat_2=45.5 +lat_0=23 +lon_0=-96 +x_0=0 +y_0=0 +datum=WGS84 +units=m +no_defs',\n",
       "  'Datum': 'wgs84',\n",
       "  'EPSG': '',\n",
       "  'Units': 'meters',\n",
       "  'GridMapping': 'albers_conical_equal_area',\n",
       "  'Available': True},\n",
       " {'Name': 'albers_ard_alaska',\n",
       "  'Description': 'Landsat ARD Albers Equal Area Alaska',\n",
       "  'Platforms': \"['Landsat ARD']\",\n",
       "  'Proj4': '+proj=aea +lat_1=55 +lat_2=65 +lat_0=50 +lon_0=-154 +x_0=0 +y_0=0 +datum=WGS84 +units=m +no_defs',\n",
       "  'Datum': 'wgs84',\n",
       "  'EPSG': '',\n",
       "  'Units': 'meters',\n",
       "  'GridMapping': 'albers_conical_equal_area',\n",
       "  'Available': True},\n",
       " {'Name': 'albers_ard_conus',\n",
       "  'Description': 'Landsat ARD Albers Equal Area CONUS',\n",
       "  'Platforms': \"['Landsat ARD']\",\n",
       "  'Proj4': '+proj=aea +lat_1=29.5 +lat_2=45.5 +lat_0=23 +lon_0=-96 +x_0=0 +y_0=0 +datum=WGS84 +units=m +no_defs',\n",
       "  'Datum': 'wgs84',\n",
       "  'EPSG': '',\n",
       "  'Units': 'meters',\n",
       "  'GridMapping': 'albers_conical_equal_area',\n",
       "  'Available': True},\n",
       " {'Name': 'albers_ard_hawaii',\n",
       "  'Description': 'Landsat ARD Albers Equal Area Hawaii',\n",
       "  'Platforms': \"['Landsat ARD']\",\n",
       "  'Proj4': '+proj=aea +lat_1=8 +lat_2=18 +lat_0=3 +lon_0=-157 +x_0=0 +y_0=0 +datum=WGS84 +units=m +no_defs',\n",
       "  'Datum': 'wgs84',\n",
       "  'EPSG': '',\n",
       "  'Units': 'meters',\n",
       "  'GridMapping': 'albers_conical_equal_area',\n",
       "  'Available': True},\n",
       " {'Name': 'easegrid_2_global',\n",
       "  'Description': 'EASE-Grid 2.0 Global',\n",
       "  'Platforms': \"['SMAP']\",\n",
       "  'Proj4': '+proj=cea +lon_0=0 +lat_ts=30 +x_0=0 +y_0=0 +datum=WGS84 +units=m +no_defs',\n",
       "  'Datum': 'wgs84',\n",
       "  'EPSG': 6933.0,\n",
       "  'Units': 'meters',\n",
       "  'GridMapping': 'lambert_cylindrical_equal_area',\n",
       "  'Available': True},\n",
       " {'Name': 'easegrid_2_north',\n",
       "  'Description': 'EASE-Grid 2.0 Northern Hemisphere',\n",
       "  'Platforms': \"['SMAP']\",\n",
       "  'Proj4': '+proj=laea +lat_0=90 +lon_0=0 +x_0=0 +y_0=0 +datum=WGS84 +units=m +no_defs',\n",
       "  'Datum': 'wgs84',\n",
       "  'EPSG': 6931.0,\n",
       "  'Units': 'meters',\n",
       "  'GridMapping': 'lambert_cylindrical_equal_area',\n",
       "  'Available': True},\n",
       " {'Name': 'laea_sphere_19',\n",
       "  'Description': 'Lambert Azimuthal Equal Area Sphere 19',\n",
       "  'Platforms': \"['eMODIS Smoothed NDVI']\",\n",
       "  'Proj4': '+proj=laea +lat_0=45 +lon_0=-100 +x_0=0 +y_0=0 +a=6370997 +b=6370997 +units=m +no_defs',\n",
       "  'Datum': '',\n",
       "  'EPSG': '',\n",
       "  'Units': 'meters',\n",
       "  'GridMapping': 'lambert_azimuthal_equal_area',\n",
       "  'Available': True}]"
      ]
     },
     "execution_count": 45,
     "metadata": {},
     "output_type": "execute_result"
    }
   ],
   "source": [
    "projections = r.get('{}spatial/proj'.format(api)).json()  # Call to spatial API, return projs as json\n",
    "projections"
   ]
  },
  {
   "cell_type": "markdown",
   "metadata": {},
   "source": [
    "Let's store all projection names in a variable:"
   ]
  },
  {
   "cell_type": "code",
   "execution_count": 47,
   "metadata": {},
   "outputs": [
    {
     "data": {
      "text/plain": [
       "['native',\n",
       " 'geographic',\n",
       " 'sinu_modis',\n",
       " 'albers_weld_alaska',\n",
       " 'albers_weld_conus',\n",
       " 'albers_ard_alaska',\n",
       " 'albers_ard_conus',\n",
       " 'albers_ard_hawaii',\n",
       " 'easegrid_2_global',\n",
       " 'easegrid_2_north',\n",
       " 'laea_sphere_19']"
      ]
     },
     "execution_count": 47,
     "metadata": {},
     "output_type": "execute_result"
    }
   ],
   "source": [
    "projs = {}\n",
    "for p in projections:\n",
    "    projs[p[\"Name\"]] = p\n",
    "list(projs.keys())"
   ]
  },
  {
   "cell_type": "markdown",
   "metadata": {},
   "source": [
    "Say we want to use the projection \"geographic\" here:"
   ]
  },
  {
   "cell_type": "code",
   "execution_count": 48,
   "metadata": {},
   "outputs": [
    {
     "data": {
      "text/plain": [
       "{'Name': 'geographic',\n",
       " 'Description': 'Geographic',\n",
       " 'Platforms': \"['SRTM', 'ECOSTRESS', 'SSEBop ET', 'GPW', 'ASTER GDEM', 'NASADEM']\",\n",
       " 'Proj4': '+proj=longlat +datum=WGS84 +no_defs',\n",
       " 'Datum': 'wgs84',\n",
       " 'EPSG': 4326.0,\n",
       " 'Units': 'degrees',\n",
       " 'GridMapping': 'latitude_longitude',\n",
       " 'Available': True}"
      ]
     },
     "execution_count": 48,
     "metadata": {},
     "output_type": "execute_result"
    }
   ],
   "source": [
    "projs[\"geographic\"]"
   ]
  },
  {
   "cell_type": "markdown",
   "metadata": {},
   "source": [
    "## 3c. Compile a json and submit the task request\n",
    "OK, now we are ready to go. To submit a task request, we need to format the variables in json format and submit it to the AppEEARS system"
   ]
  },
  {
   "cell_type": "code",
   "execution_count": 59,
   "metadata": {},
   "outputs": [],
   "source": [
    "# task_name = input(\"Enter a Task Name:\")\n",
    "task_name = \"test\"\n",
    "task_type = [\"point\", \"area\"]\n",
    "proj = projs[\"geographic\"][\"Name\"]\n",
    "outFormat = [\"geotiff\", \"netcdf4\"]\n",
    "\n",
    "startDate = \"07-01-2017\"\n",
    "endDate = \"07-31-2017\"\n",
    "\n",
    "recurring = False\n",
    "\n",
    "# format them into a json variable\n",
    "task = {\n",
    "    \"task_type\": task_type[1], # area sample task\n",
    "    \"task_name\": task_name,\n",
    "    \"params\": {\n",
    "        \"dates\": [\n",
    "        {\n",
    "            \"startDate\": startDate,\n",
    "            \"endDate\": endDate\n",
    "        }],\n",
    "        \"layers\": prodLayer,\n",
    "        \"output\": {\n",
    "            \"format\": {\n",
    "                \"type\": outFormat[0] # geotiff format\n",
    "            },\n",
    "            \"projection\": proj\n",
    "        },\n",
    "        \"geo\": nps_gc\n",
    "    }\n",
    "}"
   ]
  },
  {
   "cell_type": "markdown",
   "metadata": {},
   "source": [
    "To submit the task, we only need to post this json variable to AppEEARS api address:"
   ]
  },
  {
   "cell_type": "code",
   "execution_count": 60,
   "metadata": {},
   "outputs": [
    {
     "data": {
      "text/plain": [
       "{'task_id': 'cd69f101-982c-4c35-8c45-512e67f9e8b9', 'status': 'pending'}"
      ]
     },
     "execution_count": 60,
     "metadata": {},
     "output_type": "execute_result"
    }
   ],
   "source": [
    "token = token_response['token']                      # Save login token to a variable\n",
    "head = {'Authorization': 'Bearer {}'.format(token)}  # Create a header to store token information, needed to submit a request\n",
    "\n",
    "task_response = r.post(\"{}task\".format(api), json = task, headers = head).json()\n",
    "task_response"
   ]
  },
  {
   "cell_type": "markdown",
   "metadata": {},
   "source": [
    "Now the task has been submitted, once it is done, we can download the result. Actually, once the task has been sumitted successfully, you will receive a notification email. Also, you can check the task status by login to the website of AppEEARS or using a retrieve script as below:"
   ]
  },
  {
   "cell_type": "code",
   "execution_count": 61,
   "metadata": {},
   "outputs": [
    {
     "data": {
      "text/plain": [
       "{'task_id': 'cd69f101-982c-4c35-8c45-512e67f9e8b9',\n",
       " 'updated': '2020-06-29T22:30:33.278375',\n",
       " 'user_id': 'jacorygao@outlook.com',\n",
       " 'progress': {'details': [{'desc': 'Initializing',\n",
       "    'step': 1,\n",
       "    'pct_complete': 100},\n",
       "   {'desc': 'Downloading', 'step': 2, 'pct_complete': 100},\n",
       "   {'desc': 'Subsetting', 'step': 3, 'pct_complete': 100},\n",
       "   {'desc': 'Generating Files', 'step': 4, 'pct_complete': 100},\n",
       "   {'desc': 'Extracting Stats', 'step': 5, 'pct_complete': 100},\n",
       "   {'desc': 'Finalizing', 'step': 6, 'pct_complete': 0}],\n",
       "  'summary': 95},\n",
       " 'status_id': '707eae8b-8c80-47b2-bec9-d98c7613c91a',\n",
       " 'status_type': 'task'}"
      ]
     },
     "execution_count": 61,
     "metadata": {},
     "output_type": "execute_result"
    }
   ],
   "source": [
    "task_id = task_response['task_id']                                               # Set task id from request submission\n",
    "status_response = r.get('{}status/{}'.format(api, task_id), headers=head).json() # Call status service with specific task ID & user credentials\n",
    "status_response      "
   ]
  },
  {
   "cell_type": "markdown",
   "metadata": {},
   "source": [
    "# 4. Download a request\n",
    "At this step, the task we submitted has completed, we need to download the resutls. But first, we must know which files to download:"
   ]
  },
  {
   "cell_type": "code",
   "execution_count": 62,
   "metadata": {},
   "outputs": [
    {
     "data": {
      "text/plain": [
       "{'files': [{'sha256': '64287eaefa844410766f6400be442a220458cb06baa66afdf7c124861ada94de',\n",
       "   'file_id': 'ebe7d05a-febe-4131-ad84-ade8a68a428e',\n",
       "   'file_name': 'MCD15A3H.006_2017179_to_2017212/MCD15A3H.006_Lai_500m_doy2017181_aid0001.tif',\n",
       "   'file_size': 13511,\n",
       "   'file_type': 'tif'},\n",
       "  {'sha256': '61d98140d71b2bce3cccb6af6ebb150905651ac79f3918bcd4c6269aadc9dc81',\n",
       "   'file_id': 'e744ab4a-5251-4ca0-9bcf-999bcf93c8fa',\n",
       "   'file_name': 'MCD15A3H.006_2017179_to_2017212/MCD15A3H.006_Lai_500m_doy2017185_aid0001.tif',\n",
       "   'file_size': 13430,\n",
       "   'file_type': 'tif'},\n",
       "  {'sha256': 'b3e2aefffc0b75c1211330cae71d6add77a0a49e4d66753450103e47a27336a4',\n",
       "   'file_id': '663f2148-3e9c-49e1-87ce-84e1c5bf988e',\n",
       "   'file_name': 'MCD15A3H.006_2017179_to_2017212/MCD15A3H.006_Lai_500m_doy2017189_aid0001.tif',\n",
       "   'file_size': 13706,\n",
       "   'file_type': 'tif'},\n",
       "  {'sha256': '10d92a1091f9bac168cd48a88762cd9a367a131d3f6a29b6200e944f27cd70ff',\n",
       "   'file_id': '31a4e01a-cc2f-4328-9a35-a22217fee0f3',\n",
       "   'file_name': 'MCD15A3H.006_2017179_to_2017212/MCD15A3H.006_Lai_500m_doy2017193_aid0001.tif',\n",
       "   'file_size': 13955,\n",
       "   'file_type': 'tif'},\n",
       "  {'sha256': '1a19d2672c96065b50fdca9d5574df8ad1f514828425a36a6359d7d3eeaec9f2',\n",
       "   'file_id': '457a7453-cc78-47a2-9dce-dd407e044fc6',\n",
       "   'file_name': 'MCD15A3H.006_2017179_to_2017212/MCD15A3H.006_Lai_500m_doy2017197_aid0001.tif',\n",
       "   'file_size': 14178,\n",
       "   'file_type': 'tif'},\n",
       "  {'sha256': 'b4b5dc4b5f9b64be93472987a99f988d97af8d879dd0ee5f5dc3ef818444a836',\n",
       "   'file_id': '0261af1e-b390-4168-95b5-8359637d3821',\n",
       "   'file_name': 'MCD15A3H.006_2017179_to_2017212/MCD15A3H.006_Lai_500m_doy2017201_aid0001.tif',\n",
       "   'file_size': 14329,\n",
       "   'file_type': 'tif'},\n",
       "  {'sha256': '0bbb15476a2c6e47817b2e6d9a592bc853c2e96f3272dd6a439a3460e0b81595',\n",
       "   'file_id': 'a259142b-2b24-4781-a9bd-74833fc817a5',\n",
       "   'file_name': 'MCD15A3H.006_2017179_to_2017212/MCD15A3H.006_Lai_500m_doy2017205_aid0001.tif',\n",
       "   'file_size': 13389,\n",
       "   'file_type': 'tif'},\n",
       "  {'sha256': '1424981436bdbd39409f1b60224e9af6d2bea9d71363d69762025b17eeef9748',\n",
       "   'file_id': '526270b5-733f-41cd-9672-6f1596d4bde3',\n",
       "   'file_name': 'MCD15A3H.006_2017179_to_2017212/MCD15A3H.006_Lai_500m_doy2017209_aid0001.tif',\n",
       "   'file_size': 13588,\n",
       "   'file_type': 'tif'},\n",
       "  {'sha256': '22de4f04c20daa5f5439f8d643f6f4ec6fd1a09e94ea05ce86d07ef25501d9fb',\n",
       "   'file_id': '53220094-c4e6-4715-bdbf-c5f7fef7c199',\n",
       "   'file_name': 'MCD15A3H.006_2017179_to_2017212/MCD15A3H.006_FparLai_QC_doy2017181_aid0001.tif',\n",
       "   'file_size': 8956,\n",
       "   'file_type': 'tif'},\n",
       "  {'sha256': 'caa891a3dde1b8bb6917e219b1b810836a48b77a5a74f74b2357d5fea1d75c62',\n",
       "   'file_id': 'bf6994ba-e02b-44bd-9c17-f94733fa5f17',\n",
       "   'file_name': 'MCD15A3H.006_2017179_to_2017212/MCD15A3H.006_FparLai_QC_doy2017185_aid0001.tif',\n",
       "   'file_size': 9433,\n",
       "   'file_type': 'tif'},\n",
       "  {'sha256': 'dde9a9ba54a19e6c845fe04d6b7d92e29b984d56c2c2d916c857f1d18296e2dd',\n",
       "   'file_id': 'e1b21bfb-13f9-44cf-adf9-37ab0e999809',\n",
       "   'file_name': 'MCD15A3H.006_2017179_to_2017212/MCD15A3H.006_FparLai_QC_doy2017189_aid0001.tif',\n",
       "   'file_size': 9524,\n",
       "   'file_type': 'tif'},\n",
       "  {'sha256': '029db95b2f22b7fbd3ff3894baf9ff0c46c906747af221ab00d48c6cdd49c4c7',\n",
       "   'file_id': 'e6ff1f1c-edb3-4d4e-9ed1-dad4e78f67fe',\n",
       "   'file_name': 'MCD15A3H.006_2017179_to_2017212/MCD15A3H.006_FparLai_QC_doy2017193_aid0001.tif',\n",
       "   'file_size': 9993,\n",
       "   'file_type': 'tif'},\n",
       "  {'sha256': '6cb158c6b69f0aa748b0922ec1841a4d5ac5d4a25a5035bca6bf7da0bced1d34',\n",
       "   'file_id': 'dea36363-bead-4d23-99ec-17ac01e50a1f',\n",
       "   'file_name': 'MCD15A3H.006_2017179_to_2017212/MCD15A3H.006_FparLai_QC_doy2017197_aid0001.tif',\n",
       "   'file_size': 8684,\n",
       "   'file_type': 'tif'},\n",
       "  {'sha256': '7a6a46eedd41a3235fc6b6b9091152d0d65d3179ceec393e925193e5404e74c6',\n",
       "   'file_id': '47ce6c60-e50d-4755-89c9-719c61c29db9',\n",
       "   'file_name': 'MCD15A3H.006_2017179_to_2017212/MCD15A3H.006_FparLai_QC_doy2017201_aid0001.tif',\n",
       "   'file_size': 10744,\n",
       "   'file_type': 'tif'},\n",
       "  {'sha256': 'c6efb2040a0be927cd0d7e240f809b9ea0077d12fec2b0e30a172a6cf89d9155',\n",
       "   'file_id': '285d009b-4fd2-41cd-891c-0f1144dbd336',\n",
       "   'file_name': 'MCD15A3H.006_2017179_to_2017212/MCD15A3H.006_FparLai_QC_doy2017205_aid0001.tif',\n",
       "   'file_size': 10342,\n",
       "   'file_type': 'tif'},\n",
       "  {'sha256': '426bc731e9429c83ce5a3a04e56afa0314c52832036e7af5d372fd382a4f2c66',\n",
       "   'file_id': '83720372-2f6a-42eb-86a6-97fd3e7233af',\n",
       "   'file_name': 'MCD15A3H.006_2017179_to_2017212/MCD15A3H.006_FparLai_QC_doy2017209_aid0001.tif',\n",
       "   'file_size': 11689,\n",
       "   'file_type': 'tif'},\n",
       "  {'sha256': 'a8b4b8ef72f1167f4f912a6eb35ba73ebc378dcddb142e28532c901972333edf',\n",
       "   'file_id': '37695809-2f7c-48cd-b1a3-75399b110a1f',\n",
       "   'file_name': 'MCD15A3H.006_2017179_to_2017212/MCD15A3H.006_FparExtra_QC_doy2017181_aid0001.tif',\n",
       "   'file_size': 9149,\n",
       "   'file_type': 'tif'},\n",
       "  {'sha256': '2b289f7e9ecf8e9075a921b51fdbabb27fa80f833aeee504e4cd605bfbd57fab',\n",
       "   'file_id': 'e04fa7aa-36ae-4d81-aeb9-a82ff07fed8b',\n",
       "   'file_name': 'MCD15A3H.006_2017179_to_2017212/MCD15A3H.006_FparExtra_QC_doy2017185_aid0001.tif',\n",
       "   'file_size': 10533,\n",
       "   'file_type': 'tif'},\n",
       "  {'sha256': '6415fb68fe8cce01a14901ee8a9ede48a7239020546bbd1b607048fd4baaa7e5',\n",
       "   'file_id': '6f9f0936-29cb-4bee-b6c3-3e84b619b2ca',\n",
       "   'file_name': 'MCD15A3H.006_2017179_to_2017212/MCD15A3H.006_FparExtra_QC_doy2017189_aid0001.tif',\n",
       "   'file_size': 10475,\n",
       "   'file_type': 'tif'},\n",
       "  {'sha256': 'e60135e4d001df83c57e6a3743fe35beae4e36460e224f4186ad6c64e1efea9c',\n",
       "   'file_id': 'f5437eca-79ff-407f-8d52-76fa1326b1f7',\n",
       "   'file_name': 'MCD15A3H.006_2017179_to_2017212/MCD15A3H.006_FparExtra_QC_doy2017193_aid0001.tif',\n",
       "   'file_size': 11353,\n",
       "   'file_type': 'tif'},\n",
       "  {'sha256': '7f4acb8e977df1ea0cf2be060726dbd005f0b03b856292b5eaafc84db66013b4',\n",
       "   'file_id': '7e34cc7c-8093-4089-90a1-e0a30d7864d5',\n",
       "   'file_name': 'MCD15A3H.006_2017179_to_2017212/MCD15A3H.006_FparExtra_QC_doy2017197_aid0001.tif',\n",
       "   'file_size': 11255,\n",
       "   'file_type': 'tif'},\n",
       "  {'sha256': 'cda73704484ec7213e1f93bc4e1da20c2d50cae9821eb87e21100f5649ccb6cb',\n",
       "   'file_id': '4de3166c-21a9-4cee-b12f-e94160d82e4e',\n",
       "   'file_name': 'MCD15A3H.006_2017179_to_2017212/MCD15A3H.006_FparExtra_QC_doy2017201_aid0001.tif',\n",
       "   'file_size': 12170,\n",
       "   'file_type': 'tif'},\n",
       "  {'sha256': 'f1de569a3c0c02236a77d8c846a84d5d55497b3059edaf46814c9a68867781de',\n",
       "   'file_id': 'b13a55d6-94da-47f1-97de-88591ce9ab11',\n",
       "   'file_name': 'MCD15A3H.006_2017179_to_2017212/MCD15A3H.006_FparExtra_QC_doy2017205_aid0001.tif',\n",
       "   'file_size': 11735,\n",
       "   'file_type': 'tif'},\n",
       "  {'sha256': 'a38c4dc6ff873faf80e754e7e02126adb93df91ceff6f6988eaf0e54a64a4b6f',\n",
       "   'file_id': 'dbc65192-6b4d-45d9-bcce-21233c623bad',\n",
       "   'file_name': 'MCD15A3H.006_2017179_to_2017212/MCD15A3H.006_FparExtra_QC_doy2017209_aid0001.tif',\n",
       "   'file_size': 12710,\n",
       "   'file_type': 'tif'},\n",
       "  {'sha256': 'a8d77aa17a0f6da39f16174213ff2603c57f466691960aaf126602373b5a52cb',\n",
       "   'file_id': '5ae0620c-f168-4d00-92e0-9fc4aea7be9f',\n",
       "   'file_name': 'MOD11A2.006_2017175_to_2017212/MOD11A2.006_LST_Day_1km_doy2017177_aid0001.tif',\n",
       "   'file_size': 20481,\n",
       "   'file_type': 'tif'},\n",
       "  {'sha256': 'c965ee94a3bf626d82f2dfaf308b61b72115069fb23d0dfc62c0da2c66406a67',\n",
       "   'file_id': 'df6a0aff-df53-4e90-bdd0-b8f13093942b',\n",
       "   'file_name': 'MOD11A2.006_2017175_to_2017212/MOD11A2.006_LST_Day_1km_doy2017185_aid0001.tif',\n",
       "   'file_size': 20664,\n",
       "   'file_type': 'tif'},\n",
       "  {'sha256': '036adcce40c04e2afe422644c8aaf203c983dcef2a9e36b7f0c056cd2dd58a93',\n",
       "   'file_id': '5229739f-3948-488e-af1f-4e181481715b',\n",
       "   'file_name': 'MOD11A2.006_2017175_to_2017212/MOD11A2.006_LST_Day_1km_doy2017193_aid0001.tif',\n",
       "   'file_size': 20844,\n",
       "   'file_type': 'tif'},\n",
       "  {'sha256': '1dc336d1e26997fed6d1c4de3919107e75101ca2ff2e3ce18d635641e7419608',\n",
       "   'file_id': 'fad3bc31-a407-4d86-87e6-b165bfc94a3d',\n",
       "   'file_name': 'MOD11A2.006_2017175_to_2017212/MOD11A2.006_LST_Day_1km_doy2017201_aid0001.tif',\n",
       "   'file_size': 20944,\n",
       "   'file_type': 'tif'},\n",
       "  {'sha256': '5cab6e321514c8f3add5c91b577dfacee06c3d13a063130075914f4f01c1ccc5',\n",
       "   'file_id': 'b485b8ed-dd42-45ca-9052-dd634f817daa',\n",
       "   'file_name': 'MOD11A2.006_2017175_to_2017212/MOD11A2.006_LST_Day_1km_doy2017209_aid0001.tif',\n",
       "   'file_size': 20993,\n",
       "   'file_type': 'tif'},\n",
       "  {'sha256': '435cc1b72f0e96d751c3a19f16a04493dcb6b548286b2968ca316919f8812362',\n",
       "   'file_id': '39dd8cb2-71b3-4dbd-ac78-1b4715398d9a',\n",
       "   'file_name': 'MOD11A2.006_2017175_to_2017212/MOD11A2.006_LST_Night_1km_doy2017177_aid0001.tif',\n",
       "   'file_size': 20758,\n",
       "   'file_type': 'tif'},\n",
       "  {'sha256': '1f8295096211e7751eb699e777437c5a201835fb5a6c2a7f6030491bdb06c57d',\n",
       "   'file_id': 'b14f88f7-b4d6-4f69-898a-86764ea70225',\n",
       "   'file_name': 'MOD11A2.006_2017175_to_2017212/MOD11A2.006_LST_Night_1km_doy2017185_aid0001.tif',\n",
       "   'file_size': 20882,\n",
       "   'file_type': 'tif'},\n",
       "  {'sha256': '947fd577427e473844f0aa557c70043bb06f314a900a769e8981a5a2c437cd7b',\n",
       "   'file_id': '0f765629-2872-4658-9cb8-7035505e9f75',\n",
       "   'file_name': 'MOD11A2.006_2017175_to_2017212/MOD11A2.006_LST_Night_1km_doy2017193_aid0001.tif',\n",
       "   'file_size': 20832,\n",
       "   'file_type': 'tif'},\n",
       "  {'sha256': '1306d0da9645c8cd8e7629b37284d0646ce505d76a3254d1c5d99ae1f4d1b0ed',\n",
       "   'file_id': 'ee5af8fc-7e9c-473c-a91f-6d345648205c',\n",
       "   'file_name': 'MOD11A2.006_2017175_to_2017212/MOD11A2.006_LST_Night_1km_doy2017201_aid0001.tif',\n",
       "   'file_size': 20691,\n",
       "   'file_type': 'tif'},\n",
       "  {'sha256': 'c52d84bbff96920fe070c11fb46ad8c83f5bc75d15be5ec4330360a454e82afa',\n",
       "   'file_id': '8612062a-63d7-4436-a5a3-29f5487b1baf',\n",
       "   'file_name': 'MOD11A2.006_2017175_to_2017212/MOD11A2.006_LST_Night_1km_doy2017209_aid0001.tif',\n",
       "   'file_size': 20574,\n",
       "   'file_type': 'tif'},\n",
       "  {'sha256': '3442611d4b2370b3552e3561d3f8ded0c898bc61e246161a7f4b7c899fd22be2',\n",
       "   'file_id': 'e4c860a4-5413-41c5-9b2d-8a0252de3806',\n",
       "   'file_name': 'MOD11A2.006_2017175_to_2017212/MOD11A2.006_QC_Day_doy2017177_aid0001.tif',\n",
       "   'file_size': 2414,\n",
       "   'file_type': 'tif'},\n",
       "  {'sha256': '933a08c149f3873f6f6e0337398f5998492c8d52e0caf681c39374dcb276f153',\n",
       "   'file_id': '8ab9493c-4952-4df0-9a51-46585441b22a',\n",
       "   'file_name': 'MOD11A2.006_2017175_to_2017212/MOD11A2.006_QC_Day_doy2017185_aid0001.tif',\n",
       "   'file_size': 2837,\n",
       "   'file_type': 'tif'},\n",
       "  {'sha256': '481f106913854fa7b6442fc19f705105971fe4f5392b6f01a72c67fd5557ab02',\n",
       "   'file_id': '90221565-d42d-441d-a99c-0ec026eee75f',\n",
       "   'file_name': 'MOD11A2.006_2017175_to_2017212/MOD11A2.006_QC_Day_doy2017193_aid0001.tif',\n",
       "   'file_size': 2538,\n",
       "   'file_type': 'tif'},\n",
       "  {'sha256': 'd33633c31aade5eb062a8150cf1bce026fc1f3ee6eb48010314649835027bfc3',\n",
       "   'file_id': 'dbcf62c4-7f8a-4bb0-a577-9d8ef51a97f7',\n",
       "   'file_name': 'MOD11A2.006_2017175_to_2017212/MOD11A2.006_QC_Day_doy2017201_aid0001.tif',\n",
       "   'file_size': 2894,\n",
       "   'file_type': 'tif'},\n",
       "  {'sha256': '89c21b49eb3c1d55ecf8af0b9054b6f37f34d02d70b54c802495e2f76ce79b0a',\n",
       "   'file_id': '8dc21201-9854-4656-a7f7-e11160156d37',\n",
       "   'file_name': 'MOD11A2.006_2017175_to_2017212/MOD11A2.006_QC_Day_doy2017209_aid0001.tif',\n",
       "   'file_size': 2990,\n",
       "   'file_type': 'tif'},\n",
       "  {'sha256': '1455174185f312a01a56addfd1eed3983c10241311e7477653b6c49d2caf10c1',\n",
       "   'file_id': '5f86f268-5313-4eca-8c09-01647f28f813',\n",
       "   'file_name': 'MOD11A2.006_2017175_to_2017212/MOD11A2.006_QC_Night_doy2017177_aid0001.tif',\n",
       "   'file_size': 2192,\n",
       "   'file_type': 'tif'},\n",
       "  {'sha256': 'ac601e6891acf8251bd1353b3f84c910b16f4eb43fcbab3ad569e386356e1fa8',\n",
       "   'file_id': 'df874bb2-3878-4e52-998b-c2b6822ec92d',\n",
       "   'file_name': 'MOD11A2.006_2017175_to_2017212/MOD11A2.006_QC_Night_doy2017185_aid0001.tif',\n",
       "   'file_size': 2306,\n",
       "   'file_type': 'tif'},\n",
       "  {'sha256': '9dfbaef652adde3ec65160917fbe0ff67f9ea6b81c6909397fd1e09ba0e85ea0',\n",
       "   'file_id': '31cab451-1453-41e7-a1cd-b46a7ee18878',\n",
       "   'file_name': 'MOD11A2.006_2017175_to_2017212/MOD11A2.006_QC_Night_doy2017193_aid0001.tif',\n",
       "   'file_size': 2728,\n",
       "   'file_type': 'tif'},\n",
       "  {'sha256': 'fe0759760c84a0594bf6c69f7a0b936cee6dda4334848ec6abaf816a62829563',\n",
       "   'file_id': '4a780208-810e-4ba4-87df-e8d81792ad52',\n",
       "   'file_name': 'MOD11A2.006_2017175_to_2017212/MOD11A2.006_QC_Night_doy2017201_aid0001.tif',\n",
       "   'file_size': 2772,\n",
       "   'file_type': 'tif'},\n",
       "  {'sha256': '7fa520c65985020ad1944da57b0d8d46df73e57d7fb8b9db4669e7409c10e761',\n",
       "   'file_id': '6e361525-d72d-4bb4-aff7-68f85e0a434c',\n",
       "   'file_name': 'MOD11A2.006_2017175_to_2017212/MOD11A2.006_QC_Night_doy2017209_aid0001.tif',\n",
       "   'file_size': 2856,\n",
       "   'file_type': 'tif'},\n",
       "  {'sha256': '79d6acccd66f866c91a4cec862a6e558d927b1513185b64ce1e3cb482c17e4fd',\n",
       "   'file_id': 'daac4bb1-b8cf-42ab-8b5f-cfdabbb4a14e',\n",
       "   'file_name': 'SRTMGL1_NC.003_2000001_to_2020181/SRTMGL1_NC.003_SRTMGL1_DEM_doy2000042_aid0001.tif',\n",
       "   'file_size': 13874330,\n",
       "   'file_type': 'tif'},\n",
       "  {'sha256': '0fa295c8992a799dc0b73247ad19b2c1e97bb18584fe0582f2216820b33877bd',\n",
       "   'file_id': 'df5d0964-c9e4-4fa5-a7af-3511819ccafb',\n",
       "   'file_name': 'SRTMGL1_NUMNC.003_2000001_to_2020181/SRTMGL1_NUMNC.003_SRTMGL1_NUM_doy2000042_aid0001.tif',\n",
       "   'file_size': 2389821,\n",
       "   'file_type': 'tif'},\n",
       "  {'sha256': 'e62f9a6a8284ac1be7a2d1e07aa139727d90fa79149446abba6465c825dbf85e',\n",
       "   'file_id': '802b8f5e-ea54-4715-b80f-936e26859df0',\n",
       "   'file_name': 'MCD15A3H-006-FparLai-QC-lookup.csv',\n",
       "   'file_size': 3939,\n",
       "   'file_type': 'csv'},\n",
       "  {'sha256': '88e341b6839e1d85a41b615ef9c380f58f9883d91109ef192fce8690feb6673b',\n",
       "   'file_id': '81f5d269-2198-4b5c-8412-4978c4adb3cd',\n",
       "   'file_name': 'MCD15A3H-006-FparExtra-QC-lookup.csv',\n",
       "   'file_size': 4737,\n",
       "   'file_type': 'csv'},\n",
       "  {'sha256': 'f5ad5254fb2cd4e1c751bba66cb13d1ffa6bb699d9f24aa631caea95d844d8c6',\n",
       "   'file_id': '1f254344-6ef6-4602-b440-eef710a4ab0c',\n",
       "   'file_name': 'MOD11A2-006-QC-Day-lookup.csv',\n",
       "   'file_size': 516,\n",
       "   'file_type': 'csv'},\n",
       "  {'sha256': '84265a384dcc629d7e4d37b1b92c784c396bfdd8211d2b030b21840621dbf211',\n",
       "   'file_id': '3b7d4216-f903-4669-8b04-88a31133bac2',\n",
       "   'file_name': 'MOD11A2-006-QC-Night-lookup.csv',\n",
       "   'file_size': 631,\n",
       "   'file_type': 'csv'},\n",
       "  {'sha256': 'e712cb891b6844c15eeda5cad9912c60fc6fd6426a229356622ad11be2ab4f0f',\n",
       "   'file_id': '455fcc57-0d00-4463-878f-2ee38695809b',\n",
       "   'file_name': 'SRTMGL1-NUMNC-003-SRTMGL1-NUM-lookup.csv',\n",
       "   'file_size': 1542,\n",
       "   'file_type': 'csv'},\n",
       "  {'sha256': '595588d38b6ebb1383080eb0b20f1f244b8516f5b8c33daf9d7d430186cf1d59',\n",
       "   'file_id': 'de38c89a-9236-4615-ad72-564c2d0ce892',\n",
       "   'file_name': 'MCD15A3H-006-FparLai-QC-Statistics-QA.csv',\n",
       "   'file_size': 912,\n",
       "   'file_type': 'csv'},\n",
       "  {'sha256': '4ce4394c42ecdfda48d0621645f9c1cec93f69e244c9a82118e22c26b114383c',\n",
       "   'file_id': '88ff1a19-dfa8-4cd9-94d2-fdadb7f2940c',\n",
       "   'file_name': 'MCD15A3H-006-FparExtra-QC-Statistics-QA.csv',\n",
       "   'file_size': 1093,\n",
       "   'file_type': 'csv'},\n",
       "  {'sha256': 'df22a5f731d3b8ebc839d9127c6ae858f28ce9108ff0b22ca2a82f433f4400aa',\n",
       "   'file_id': 'e788d8bb-3f42-4443-87b9-a2d2ced36102',\n",
       "   'file_name': 'MOD11A2-006-QC-Day-Statistics-QA.csv',\n",
       "   'file_size': 305,\n",
       "   'file_type': 'csv'},\n",
       "  {'sha256': '305ff2e43ea91991a7d7d6fe43c8e2870ddad64ba42be2e794cce9b935fea923',\n",
       "   'file_id': '90d04f79-9bbd-49e5-ad9e-555c1dee4f5f',\n",
       "   'file_name': 'MOD11A2-006-QC-Night-Statistics-QA.csv',\n",
       "   'file_size': 328,\n",
       "   'file_type': 'csv'},\n",
       "  {'sha256': 'aef8909e6c8b117bfcf715f4904939caf4317ba39ea9a8a6573d76934eb451b6',\n",
       "   'file_id': '8cad93c4-c819-4c37-bcad-cb5c45f24f2a',\n",
       "   'file_name': 'SRTMGL1-NUMNC-003-SRTMGL1-NUM-Statistics-QA.csv',\n",
       "   'file_size': 552,\n",
       "   'file_type': 'csv'},\n",
       "  {'sha256': 'd88970a8a643e1fcae65ae1e5640d585795a385b68fc3336e131ba3b721bfe93',\n",
       "   'file_id': '0ffe3103-292e-469d-820c-b931e81e9e4f',\n",
       "   'file_name': 'MCD15A3H-006-Statistics.csv',\n",
       "   'file_size': 1251,\n",
       "   'file_type': 'csv'},\n",
       "  {'sha256': 'b807d7efdfb6f572c1daeac9b7b70a49ac2aae96d551eba61eea0a8309c56e6c',\n",
       "   'file_id': 'd8d9ebb6-33ed-42c5-bd32-014f2542f937',\n",
       "   'file_name': 'MOD11A2-006-Statistics.csv',\n",
       "   'file_size': 1860,\n",
       "   'file_type': 'csv'},\n",
       "  {'sha256': '8575912cdf419539b0c6263888e074faf9f43aa4213df0dcf7578a8d208cd7bd',\n",
       "   'file_id': '663a1e51-3551-4197-b082-463398bb0070',\n",
       "   'file_name': 'SRTMGL1-NC-003-Statistics.csv',\n",
       "   'file_size': 335,\n",
       "   'file_type': 'csv'},\n",
       "  {'sha256': '1db1f9792ba045db344656a65a54afe1349e94714be7e1e10216147ff3da7c2e',\n",
       "   'file_id': '31f8dcbd-b219-4328-ada7-82a7f8acf02a',\n",
       "   'file_name': 'test-granule-list.txt',\n",
       "   'file_size': 4574,\n",
       "   'file_type': 'txt'},\n",
       "  {'sha256': '08098a2140d5670e2fc1b8056c2690a8c224f22d2920a5fbff6076650da0f4cc',\n",
       "   'file_id': 'bca3e9b3-b29b-460a-98b0-a84effcbe2dd',\n",
       "   'file_name': 'test-request.json',\n",
       "   'file_size': 13657659,\n",
       "   'file_type': 'json'},\n",
       "  {'sha256': '39d9cc8bb80683dc42eff954e588c531d0a7a9cb5f155b4e6048cf317f3541cc',\n",
       "   'file_id': '5801f209-1c97-4a5d-bb3c-c2702962c941',\n",
       "   'file_name': 'test-MCD15A3H-006-metadata.xml',\n",
       "   'file_size': 22142,\n",
       "   'file_type': 'xml'},\n",
       "  {'sha256': '3f956d516473ce3b477555f7658ac1da4b8fbc72d949e1eed29eede4d6596096',\n",
       "   'file_id': '69d22902-f93e-4581-b156-474a4290bb27',\n",
       "   'file_name': 'test-MOD11A2-006-metadata.xml',\n",
       "   'file_size': 22106,\n",
       "   'file_type': 'xml'},\n",
       "  {'sha256': '61c06b0d2f191da35d32191dd8ef750d07d5e481a9c573aaa0ee720aebe3e724',\n",
       "   'file_id': '8102e056-d36d-420a-b9bd-1e6bdd64cf1a',\n",
       "   'file_name': 'test-SRTMGL1-NC-003-metadata.xml',\n",
       "   'file_size': 22058,\n",
       "   'file_type': 'xml'},\n",
       "  {'sha256': 'cb8a40edc490aa556af60721cffeab9557625479d49cbb8e4d57ef973c076e03',\n",
       "   'file_id': '6a97de0e-e8e5-4dab-b3b6-745e9d3efef2',\n",
       "   'file_name': 'README.md',\n",
       "   'file_size': 23557,\n",
       "   'file_type': 'txt'}],\n",
       " 'created': '2020-06-29T22:29:32.107547',\n",
       " 'task_id': 'cd69f101-982c-4c35-8c45-512e67f9e8b9',\n",
       " 'updated': '2020-06-29T22:30:43.710898',\n",
       " 'bundle_type': 'area'}"
      ]
     },
     "execution_count": 62,
     "metadata": {},
     "output_type": "execute_result"
    }
   ],
   "source": [
    "bundle = r.get('{}bundle/{}'.format(api,task_id)).json()  # Call API and return bundle contents for the task_id as json\n",
    "bundle"
   ]
  },
  {
   "cell_type": "markdown",
   "metadata": {},
   "source": [
    "Store those files to a variable:"
   ]
  },
  {
   "cell_type": "code",
   "execution_count": 63,
   "metadata": {},
   "outputs": [
    {
     "data": {
      "text/plain": [
       "{'ebe7d05a-febe-4131-ad84-ade8a68a428e': 'MCD15A3H.006_2017179_to_2017212/MCD15A3H.006_Lai_500m_doy2017181_aid0001.tif',\n",
       " 'e744ab4a-5251-4ca0-9bcf-999bcf93c8fa': 'MCD15A3H.006_2017179_to_2017212/MCD15A3H.006_Lai_500m_doy2017185_aid0001.tif',\n",
       " '663f2148-3e9c-49e1-87ce-84e1c5bf988e': 'MCD15A3H.006_2017179_to_2017212/MCD15A3H.006_Lai_500m_doy2017189_aid0001.tif',\n",
       " '31a4e01a-cc2f-4328-9a35-a22217fee0f3': 'MCD15A3H.006_2017179_to_2017212/MCD15A3H.006_Lai_500m_doy2017193_aid0001.tif',\n",
       " '457a7453-cc78-47a2-9dce-dd407e044fc6': 'MCD15A3H.006_2017179_to_2017212/MCD15A3H.006_Lai_500m_doy2017197_aid0001.tif',\n",
       " '0261af1e-b390-4168-95b5-8359637d3821': 'MCD15A3H.006_2017179_to_2017212/MCD15A3H.006_Lai_500m_doy2017201_aid0001.tif',\n",
       " 'a259142b-2b24-4781-a9bd-74833fc817a5': 'MCD15A3H.006_2017179_to_2017212/MCD15A3H.006_Lai_500m_doy2017205_aid0001.tif',\n",
       " '526270b5-733f-41cd-9672-6f1596d4bde3': 'MCD15A3H.006_2017179_to_2017212/MCD15A3H.006_Lai_500m_doy2017209_aid0001.tif',\n",
       " '53220094-c4e6-4715-bdbf-c5f7fef7c199': 'MCD15A3H.006_2017179_to_2017212/MCD15A3H.006_FparLai_QC_doy2017181_aid0001.tif',\n",
       " 'bf6994ba-e02b-44bd-9c17-f94733fa5f17': 'MCD15A3H.006_2017179_to_2017212/MCD15A3H.006_FparLai_QC_doy2017185_aid0001.tif',\n",
       " 'e1b21bfb-13f9-44cf-adf9-37ab0e999809': 'MCD15A3H.006_2017179_to_2017212/MCD15A3H.006_FparLai_QC_doy2017189_aid0001.tif',\n",
       " 'e6ff1f1c-edb3-4d4e-9ed1-dad4e78f67fe': 'MCD15A3H.006_2017179_to_2017212/MCD15A3H.006_FparLai_QC_doy2017193_aid0001.tif',\n",
       " 'dea36363-bead-4d23-99ec-17ac01e50a1f': 'MCD15A3H.006_2017179_to_2017212/MCD15A3H.006_FparLai_QC_doy2017197_aid0001.tif',\n",
       " '47ce6c60-e50d-4755-89c9-719c61c29db9': 'MCD15A3H.006_2017179_to_2017212/MCD15A3H.006_FparLai_QC_doy2017201_aid0001.tif',\n",
       " '285d009b-4fd2-41cd-891c-0f1144dbd336': 'MCD15A3H.006_2017179_to_2017212/MCD15A3H.006_FparLai_QC_doy2017205_aid0001.tif',\n",
       " '83720372-2f6a-42eb-86a6-97fd3e7233af': 'MCD15A3H.006_2017179_to_2017212/MCD15A3H.006_FparLai_QC_doy2017209_aid0001.tif',\n",
       " '37695809-2f7c-48cd-b1a3-75399b110a1f': 'MCD15A3H.006_2017179_to_2017212/MCD15A3H.006_FparExtra_QC_doy2017181_aid0001.tif',\n",
       " 'e04fa7aa-36ae-4d81-aeb9-a82ff07fed8b': 'MCD15A3H.006_2017179_to_2017212/MCD15A3H.006_FparExtra_QC_doy2017185_aid0001.tif',\n",
       " '6f9f0936-29cb-4bee-b6c3-3e84b619b2ca': 'MCD15A3H.006_2017179_to_2017212/MCD15A3H.006_FparExtra_QC_doy2017189_aid0001.tif',\n",
       " 'f5437eca-79ff-407f-8d52-76fa1326b1f7': 'MCD15A3H.006_2017179_to_2017212/MCD15A3H.006_FparExtra_QC_doy2017193_aid0001.tif',\n",
       " '7e34cc7c-8093-4089-90a1-e0a30d7864d5': 'MCD15A3H.006_2017179_to_2017212/MCD15A3H.006_FparExtra_QC_doy2017197_aid0001.tif',\n",
       " '4de3166c-21a9-4cee-b12f-e94160d82e4e': 'MCD15A3H.006_2017179_to_2017212/MCD15A3H.006_FparExtra_QC_doy2017201_aid0001.tif',\n",
       " 'b13a55d6-94da-47f1-97de-88591ce9ab11': 'MCD15A3H.006_2017179_to_2017212/MCD15A3H.006_FparExtra_QC_doy2017205_aid0001.tif',\n",
       " 'dbc65192-6b4d-45d9-bcce-21233c623bad': 'MCD15A3H.006_2017179_to_2017212/MCD15A3H.006_FparExtra_QC_doy2017209_aid0001.tif',\n",
       " '5ae0620c-f168-4d00-92e0-9fc4aea7be9f': 'MOD11A2.006_2017175_to_2017212/MOD11A2.006_LST_Day_1km_doy2017177_aid0001.tif',\n",
       " 'df6a0aff-df53-4e90-bdd0-b8f13093942b': 'MOD11A2.006_2017175_to_2017212/MOD11A2.006_LST_Day_1km_doy2017185_aid0001.tif',\n",
       " '5229739f-3948-488e-af1f-4e181481715b': 'MOD11A2.006_2017175_to_2017212/MOD11A2.006_LST_Day_1km_doy2017193_aid0001.tif',\n",
       " 'fad3bc31-a407-4d86-87e6-b165bfc94a3d': 'MOD11A2.006_2017175_to_2017212/MOD11A2.006_LST_Day_1km_doy2017201_aid0001.tif',\n",
       " 'b485b8ed-dd42-45ca-9052-dd634f817daa': 'MOD11A2.006_2017175_to_2017212/MOD11A2.006_LST_Day_1km_doy2017209_aid0001.tif',\n",
       " '39dd8cb2-71b3-4dbd-ac78-1b4715398d9a': 'MOD11A2.006_2017175_to_2017212/MOD11A2.006_LST_Night_1km_doy2017177_aid0001.tif',\n",
       " 'b14f88f7-b4d6-4f69-898a-86764ea70225': 'MOD11A2.006_2017175_to_2017212/MOD11A2.006_LST_Night_1km_doy2017185_aid0001.tif',\n",
       " '0f765629-2872-4658-9cb8-7035505e9f75': 'MOD11A2.006_2017175_to_2017212/MOD11A2.006_LST_Night_1km_doy2017193_aid0001.tif',\n",
       " 'ee5af8fc-7e9c-473c-a91f-6d345648205c': 'MOD11A2.006_2017175_to_2017212/MOD11A2.006_LST_Night_1km_doy2017201_aid0001.tif',\n",
       " '8612062a-63d7-4436-a5a3-29f5487b1baf': 'MOD11A2.006_2017175_to_2017212/MOD11A2.006_LST_Night_1km_doy2017209_aid0001.tif',\n",
       " 'e4c860a4-5413-41c5-9b2d-8a0252de3806': 'MOD11A2.006_2017175_to_2017212/MOD11A2.006_QC_Day_doy2017177_aid0001.tif',\n",
       " '8ab9493c-4952-4df0-9a51-46585441b22a': 'MOD11A2.006_2017175_to_2017212/MOD11A2.006_QC_Day_doy2017185_aid0001.tif',\n",
       " '90221565-d42d-441d-a99c-0ec026eee75f': 'MOD11A2.006_2017175_to_2017212/MOD11A2.006_QC_Day_doy2017193_aid0001.tif',\n",
       " 'dbcf62c4-7f8a-4bb0-a577-9d8ef51a97f7': 'MOD11A2.006_2017175_to_2017212/MOD11A2.006_QC_Day_doy2017201_aid0001.tif',\n",
       " '8dc21201-9854-4656-a7f7-e11160156d37': 'MOD11A2.006_2017175_to_2017212/MOD11A2.006_QC_Day_doy2017209_aid0001.tif',\n",
       " '5f86f268-5313-4eca-8c09-01647f28f813': 'MOD11A2.006_2017175_to_2017212/MOD11A2.006_QC_Night_doy2017177_aid0001.tif',\n",
       " 'df874bb2-3878-4e52-998b-c2b6822ec92d': 'MOD11A2.006_2017175_to_2017212/MOD11A2.006_QC_Night_doy2017185_aid0001.tif',\n",
       " '31cab451-1453-41e7-a1cd-b46a7ee18878': 'MOD11A2.006_2017175_to_2017212/MOD11A2.006_QC_Night_doy2017193_aid0001.tif',\n",
       " '4a780208-810e-4ba4-87df-e8d81792ad52': 'MOD11A2.006_2017175_to_2017212/MOD11A2.006_QC_Night_doy2017201_aid0001.tif',\n",
       " '6e361525-d72d-4bb4-aff7-68f85e0a434c': 'MOD11A2.006_2017175_to_2017212/MOD11A2.006_QC_Night_doy2017209_aid0001.tif',\n",
       " 'daac4bb1-b8cf-42ab-8b5f-cfdabbb4a14e': 'SRTMGL1_NC.003_2000001_to_2020181/SRTMGL1_NC.003_SRTMGL1_DEM_doy2000042_aid0001.tif',\n",
       " 'df5d0964-c9e4-4fa5-a7af-3511819ccafb': 'SRTMGL1_NUMNC.003_2000001_to_2020181/SRTMGL1_NUMNC.003_SRTMGL1_NUM_doy2000042_aid0001.tif',\n",
       " '802b8f5e-ea54-4715-b80f-936e26859df0': 'MCD15A3H-006-FparLai-QC-lookup.csv',\n",
       " '81f5d269-2198-4b5c-8412-4978c4adb3cd': 'MCD15A3H-006-FparExtra-QC-lookup.csv',\n",
       " '1f254344-6ef6-4602-b440-eef710a4ab0c': 'MOD11A2-006-QC-Day-lookup.csv',\n",
       " '3b7d4216-f903-4669-8b04-88a31133bac2': 'MOD11A2-006-QC-Night-lookup.csv',\n",
       " '455fcc57-0d00-4463-878f-2ee38695809b': 'SRTMGL1-NUMNC-003-SRTMGL1-NUM-lookup.csv',\n",
       " 'de38c89a-9236-4615-ad72-564c2d0ce892': 'MCD15A3H-006-FparLai-QC-Statistics-QA.csv',\n",
       " '88ff1a19-dfa8-4cd9-94d2-fdadb7f2940c': 'MCD15A3H-006-FparExtra-QC-Statistics-QA.csv',\n",
       " 'e788d8bb-3f42-4443-87b9-a2d2ced36102': 'MOD11A2-006-QC-Day-Statistics-QA.csv',\n",
       " '90d04f79-9bbd-49e5-ad9e-555c1dee4f5f': 'MOD11A2-006-QC-Night-Statistics-QA.csv',\n",
       " '8cad93c4-c819-4c37-bcad-cb5c45f24f2a': 'SRTMGL1-NUMNC-003-SRTMGL1-NUM-Statistics-QA.csv',\n",
       " '0ffe3103-292e-469d-820c-b931e81e9e4f': 'MCD15A3H-006-Statistics.csv',\n",
       " 'd8d9ebb6-33ed-42c5-bd32-014f2542f937': 'MOD11A2-006-Statistics.csv',\n",
       " '663a1e51-3551-4197-b082-463398bb0070': 'SRTMGL1-NC-003-Statistics.csv',\n",
       " '31f8dcbd-b219-4328-ada7-82a7f8acf02a': 'test-granule-list.txt',\n",
       " 'bca3e9b3-b29b-460a-98b0-a84effcbe2dd': 'test-request.json',\n",
       " '5801f209-1c97-4a5d-bb3c-c2702962c941': 'test-MCD15A3H-006-metadata.xml',\n",
       " '69d22902-f93e-4581-b156-474a4290bb27': 'test-MOD11A2-006-metadata.xml',\n",
       " '8102e056-d36d-420a-b9bd-1e6bdd64cf1a': 'test-SRTMGL1-NC-003-metadata.xml',\n",
       " '6a97de0e-e8e5-4dab-b3b6-745e9d3efef2': 'README.md'}"
      ]
     },
     "execution_count": 63,
     "metadata": {},
     "output_type": "execute_result"
    }
   ],
   "source": [
    "files = {}                                                       # Create empty dictionary\n",
    "for f in bundle['files']: files[f['file_id']] = f['file_name']   # Fill dictionary with file_id as keys and file_name as values\n",
    "files"
   ]
  },
  {
   "cell_type": "markdown",
   "metadata": {},
   "source": [
    "Then, just download to wherever you want:"
   ]
  },
  {
   "cell_type": "code",
   "execution_count": 64,
   "metadata": {
    "tags": []
   },
   "outputs": [
    {
     "name": "stdout",
     "output_type": "stream",
     "text": [
      "Downloaded files can be found at: /Users/xgao26/Downloads/cd69f101-982c-4c35-8c45-512e67f9e8b9\n"
     ]
    }
   ],
   "source": [
    "destDir = os.path.join(\"/Users/xgao26/Downloads/\", task_name)\n",
    "if not os.path.exists(destDir) : os.makedirs(destDir)\n",
    "\n",
    "for f in files:\n",
    "    dl = r.get('{}bundle/{}/{}'.format(api, task_id, f), stream=True)                                # Get a stream to the bundle file\n",
    "    filename = os.path.basename(cgi.parse_header(dl.headers['Content-Disposition'])[1]['filename'])  # Parse the name from Content-Disposition header \n",
    "    filepath = os.path.join(destDir, filename)                                                       # Create output file path\n",
    "    with open(filepath, 'wb') as f:                                                                  # Write file to dest dir\n",
    "        for data in dl.iter_content(chunk_size=8192): f.write(data) \n",
    "print('Downloaded files can be found at: {}'.format(destDir))"
   ]
  }
 ],
 "metadata": {
  "kernelspec": {
   "display_name": "Python 3",
   "language": "python",
   "name": "python3"
  },
  "language_info": {
   "codemirror_mode": {
    "name": "ipython",
    "version": 3
   },
   "file_extension": ".py",
   "mimetype": "text/x-python",
   "name": "python",
   "nbconvert_exporter": "python",
   "pygments_lexer": "ipython3",
   "version": "3.6.10"
  }
 },
 "nbformat": 4,
 "nbformat_minor": 4
}
