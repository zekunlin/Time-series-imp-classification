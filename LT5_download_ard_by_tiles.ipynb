{
 "metadata": {
  "language_info": {
   "codemirror_mode": {
    "name": "ipython",
    "version": 3
   },
   "file_extension": ".py",
   "mimetype": "text/x-python",
   "name": "python",
   "nbconvert_exporter": "python",
   "pygments_lexer": "ipython3",
   "version": "3.8.5-final"
  },
  "orig_nbformat": 2,
  "kernelspec": {
   "name": "Python 3.8.5 64-bit ('GIS712': conda)",
   "display_name": "Python 3.8.5 64-bit ('GIS712': conda)",
   "metadata": {
    "interpreter": {
     "hash": "ff0c070e84440430e358ec0281581361f68081b25da57249b48dc9fe569643ae"
    }
   }
  }
 },
 "nbformat": 4,
 "nbformat_minor": 2,
 "cells": [
  {
   "cell_type": "code",
   "execution_count": 72,
   "metadata": {},
   "outputs": [
    {
     "output_type": "execute_result",
     "data": {
      "text/plain": [
       "[{'layer': 'PIXELQA', 'product': 'CU_LT05.001'},\n",
       " {'layer': 'SRB1', 'product': 'CU_LT05.001'},\n",
       " {'layer': 'SRB2', 'product': 'CU_LT05.001'},\n",
       " {'layer': 'SRB3', 'product': 'CU_LT05.001'},\n",
       " {'layer': 'SRB4', 'product': 'CU_LT05.001'},\n",
       " {'layer': 'SRB5', 'product': 'CU_LT05.001'},\n",
       " {'layer': 'SRB7', 'product': 'CU_LT05.001'},\n",
       " {'layer': 'SRCLOUDQA', 'product': 'CU_LT05.001'}]"
      ]
     },
     "metadata": {},
     "execution_count": 72
    }
   ],
   "source": [
    "prods = [\"CU_LT05.001\"]\n",
    "layers = [(prods[0], \"PIXELQA\"), (prods[0], \"SRB1\"), (prods[0], \"SRB2\"), (prods[0], \"SRB3\"), (prods[0], \"SRB4\"), (prods[0], \"SRB5\"), (prods[0], \"SRB7\"), (prods[0], \"SRCLOUDQA\")]\n",
    "prodLayer = []\n",
    "for l in layers:\n",
    "    prodLayer.append({\n",
    "        \"layer\": l[1],\n",
    "        \"product\": l[0]\n",
    "    })\n",
    "prodLayer"
   ]
  },
  {
   "cell_type": "code",
   "execution_count": 77,
   "metadata": {},
   "outputs": [
    {
     "output_type": "execute_result",
     "data": {
      "text/plain": [
       "{'token_type': 'Bearer',\n",
       " 'token': '_S8jYB8ktSw3cXinTiVmYLHkYpuuAt1uyuIhZvCHabLLs65hgrrNc9QpiMT5eCW70D1v5dTFxTelTnwWhPfP-w',\n",
       " 'expiration': '2020-10-13T05:29:57Z'}"
      ]
     },
     "metadata": {},
     "execution_count": 77
    }
   ],
   "source": [
    "import requests as r\n",
    "import getpass, pprint, time, os, cgi, json\n",
    "import geopandas as gpd\n",
    "\n",
    "# Enter Earth Data login Credentials\n",
    "username = \"ZekunLin\"#getpass.getpass('Earthdata Username:')\n",
    "password = \"P6Fn8T47\"#getpass.getpass('Earthdata Password:')\n",
    "\n",
    "api = 'https://lpdaacsvc.cr.usgs.gov/appeears/api/'  # Set the AρρEEARS API to a variable\n",
    "\n",
    "token_response = r.post('{}login'.format(api), auth=(username, password)).json() # Insert API URL, call login service, provide credentials & return json\n",
    "del username, password                                                           # Remove user and password information\n",
    "token_response "
   ]
  },
  {
   "cell_type": "code",
   "execution_count": 78,
   "metadata": {},
   "outputs": [
    {
     "output_type": "execute_result",
     "data": {
      "text/plain": [
       "{'Name': 'albers_ard_conus',\n",
       " 'Description': 'Landsat ARD Albers Equal Area CONUS',\n",
       " 'Platforms': \"['Landsat ARD']\",\n",
       " 'Proj4': '+proj=aea +lat_1=29.5 +lat_2=45.5 +lat_0=23 +lon_0=-96 +x_0=0 +y_0=0 +datum=WGS84 +units=m +no_defs',\n",
       " 'Datum': 'wgs84',\n",
       " 'EPSG': '',\n",
       " 'Units': 'meters',\n",
       " 'GridMapping': 'albers_conical_equal_area',\n",
       " 'Available': True}"
      ]
     },
     "metadata": {},
     "execution_count": 78
    }
   ],
   "source": [
    "projections = r.get('{}spatial/proj'.format(api)).json()  # Call to spatial API, return projs as json\n",
    "projections\n",
    "projs = {}\n",
    "for p in projections:\n",
    "    projs[p[\"Name\"]] = p\n",
    "list(projs.keys())\n",
    "\n"
   ]
  },
  {
   "source": [
    "import os\n",
    "import glob\n",
    "import time\n",
    "tile_list = glob.glob(\"D:/Zekun/Landsat_ARD/Landsat_ARD/ARD_Uni_shapefiles/*.shp\")\n",
    "short_name = [os.path.basename(x) for x in glob.glob(\"D:/Zekun/Landsat_ARD/Landsat_ARD/ARD_Uni_shapefiles/*.shp\")]\n",
    "\n",
    "for i in range(len(tile_list)):\n",
    "    nps = gpd.read_file(tile_list[i])\n",
    "    nps = nps.to_crs(\"EPSG:4326\")\n",
    "\n",
    "    nps_gc = nps.to_json()\n",
    "    nps_gc = json.loads(nps_gc)\n",
    "\n",
    "    task_name = short_name[i][0:7]\n",
    "    task_type = \"area\"\n",
    "    proj = projs[\"geographic\"][\"Name\"]\n",
    "    outFormat = [\"geotiff\"]\n",
    "    startDate = \"01-01-1984\"\n",
    "    endDate = \"12-31-2003\"\n",
    "    recurring = False\n",
    "\n",
    "    task = {\n",
    "        \"task_type\": task_type, # area sample task\n",
    "        \"task_name\": task_name,\n",
    "        \"params\": {\n",
    "            \"dates\": [\n",
    "            {\n",
    "                \"startDate\": startDate,\n",
    "                \"endDate\": endDate\n",
    "            }],\n",
    "            \"layers\": prodLayer,\n",
    "            \"output\": {\n",
    "                \"format\": {\n",
    "                    \"type\": outFormat[0] # geotiff format\n",
    "                },\n",
    "                \"projection\": proj\n",
    "            },\n",
    "            \"geo\": nps_gc\n",
    "            }\n",
    "    }\n",
    "\n",
    "    print(task)\n",
    "\n",
    "    token = token_response['token']                      # Save login token to a variable\n",
    "    head = {'Authorization': 'Bearer {}'.format(token)}  # Create a header to store token information, needed to submit a request\n",
    "\n",
    "    task_response = r.post(\"{}task\".format(api), json = task, headers = head).json()\n",
    "    print(task_response)\n",
    "    \n",
    "    task_id = task_response['task_id']                                               # Set task id from request submission\n",
    "    status_response = r.get('{}status/{}'.format(api, task_id), headers=head).json() # Call status service with specific task ID & user credentials\n",
    "    print(status_response['status'])\n",
    "\n",
    "    write_task_id = task_id + \" : \" + task_name + \":\" + status_response['status']\n",
    "    t = open(os.path.join(\"D:/Zekun/Landsat_ARD/Landsat_ARD/se_ard/\", \"task_id_by_tile.txt\"), 'a')\n",
    "    t.write(write_task_id +\"\\n\")\n",
    "    t.close()\n",
    "\n",
    "    print('orders have been submitted')\n"
   ],
   "cell_type": "code",
   "metadata": {
    "tags": []
   },
   "execution_count": 110,
   "outputs": [
    {
     "output_type": "stream",
     "name": "stdout",
     "text": [
      "{'task_type': 'area', 'task_name': 'h18_v13', 'params': {'dates': [{'startDate': '01-01-1984', 'endDate': '12-31-2003'}], 'layers': [{'layer': 'PIXELQA', 'product': 'CU_LT05.001'}, {'layer': 'SRB1', 'product': 'CU_LT05.001'}, {'layer': 'SRB2', 'product': 'CU_LT05.001'}, {'layer': 'SRB3', 'product': 'CU_LT05.001'}, {'layer': 'SRB4', 'product': 'CU_LT05.001'}, {'layer': 'SRB5', 'product': 'CU_LT05.001'}, {'layer': 'SRB7', 'product': 'CU_LT05.001'}, {'layer': 'SRCLOUDQA', 'product': 'CU_LT05.001'}], 'output': {'format': {'type': 'geotiff'}, 'projection': 'geographic'}, 'geo': {'type': 'FeatureCollection', 'features': [{'id': '0', 'type': 'Feature', 'properties': {'FID_1': 349.0, 'h': 18, 'v': 13}, 'geometry': {'type': 'Polygon', 'coordinates': [[[-94.50856585825146, 35.330189994248286], [-92.84510497774326, 35.29742847715524], [-92.89937263707863, 33.95694461325491], [-94.53423443113005, 33.989190100776376], [-94.50856585825146, 35.330189994248286]]]}}]}}}\n",
      "{'task_id': '9b037ad0-ce0e-4d7c-a831-123dc1f56f1c', 'status': 'pending'}\n",
      "pending\n",
      "{'task_type': 'area', 'task_name': 'h18_v14', 'params': {'dates': [{'startDate': '01-01-1984', 'endDate': '12-31-2003'}], 'layers': [{'layer': 'PIXELQA', 'product': 'CU_LT05.001'}, {'layer': 'SRB1', 'product': 'CU_LT05.001'}, {'layer': 'SRB2', 'product': 'CU_LT05.001'}, {'layer': 'SRB3', 'product': 'CU_LT05.001'}, {'layer': 'SRB4', 'product': 'CU_LT05.001'}, {'layer': 'SRB5', 'product': 'CU_LT05.001'}, {'layer': 'SRB7', 'product': 'CU_LT05.001'}, {'layer': 'SRCLOUDQA', 'product': 'CU_LT05.001'}], 'output': {'format': {'type': 'geotiff'}, 'projection': 'geographic'}, 'geo': {'type': 'FeatureCollection', 'features': [{'id': '0', 'type': 'Feature', 'properties': {'FID_1': 350.0, 'h': 18, 'v': 14}, 'geometry': {'type': 'Polygon', 'coordinates': [[[-94.53423443113005, 33.989190100776376], [-92.89937263707863, 33.95694461325491], [-92.9518055693417, 32.6141324073798], [-94.55903447331198, 32.64589429667143], [-94.53423443113005, 33.989190100776376]]]}}]}}}\n",
      "{'task_id': '53ba4495-672a-4eaa-a350-6c7267736ed5', 'status': 'pending'}\n",
      "pending\n",
      "{'task_type': 'area', 'task_name': 'h18_v15', 'params': {'dates': [{'startDate': '01-01-1984', 'endDate': '12-31-2003'}], 'layers': [{'layer': 'PIXELQA', 'product': 'CU_LT05.001'}, {'layer': 'SRB1', 'product': 'CU_LT05.001'}, {'layer': 'SRB2', 'product': 'CU_LT05.001'}, {'layer': 'SRB3', 'product': 'CU_LT05.001'}, {'layer': 'SRB4', 'product': 'CU_LT05.001'}, {'layer': 'SRB5', 'product': 'CU_LT05.001'}, {'layer': 'SRB7', 'product': 'CU_LT05.001'}, {'layer': 'SRCLOUDQA', 'product': 'CU_LT05.001'}], 'output': {'format': {'type': 'geotiff'}, 'projection': 'geographic'}, 'geo': {'type': 'FeatureCollection', 'features': [{'id': '0', 'type': 'Feature', 'properties': {'FID_1': 351.0, 'h': 18, 'v': 15}, 'geometry': {'type': 'Polygon', 'coordinates': [[[-94.55903447331198, 32.64589429667143], [-92.9518055693417, 32.6141324073798], [-93.00249524245552, 31.268369620134962], [-94.58300933006414, 31.29967826561436], [-94.55903447331198, 32.64589429667143]]]}}]}}}\n",
      "{'task_id': '59d3c769-11e7-43d5-8134-9f3da0d25a7d', 'status': 'pending'}\n",
      "pending\n",
      "{'task_type': 'area', 'task_name': 'h18_v16', 'params': {'dates': [{'startDate': '01-01-1984', 'endDate': '12-31-2003'}], 'layers': [{'layer': 'PIXELQA', 'product': 'CU_LT05.001'}, {'layer': 'SRB1', 'product': 'CU_LT05.001'}, {'layer': 'SRB2', 'product': 'CU_LT05.001'}, {'layer': 'SRB3', 'product': 'CU_LT05.001'}, {'layer': 'SRB4', 'product': 'CU_LT05.001'}, {'layer': 'SRB5', 'product': 'CU_LT05.001'}, {'layer': 'SRB7', 'product': 'CU_LT05.001'}, {'layer': 'SRCLOUDQA', 'product': 'CU_LT05.001'}], 'output': {'format': {'type': 'geotiff'}, 'projection': 'geographic'}, 'geo': {'type': 'FeatureCollection', 'features': [{'id': '0', 'type': 'Feature', 'properties': {'FID_1': 352.0, 'h': 18, 'v': 16}, 'geometry': {'type': 'Polygon', 'coordinates': [[[-94.58300933006414, 31.29967826561436], [-93.00249524245552, 31.268369620134962], [-93.05152714563262, 29.91905140417327], [-94.60619950977633, 29.94993531821042], [-94.58300933006414, 31.29967826561436]]]}}]}}}\n",
      "{'task_id': 'eb99e947-e625-43f5-ad6d-5c1088dcbaa6', 'status': 'pending'}\n",
      "pending\n",
      "{'task_type': 'area', 'task_name': 'h18_v17', 'params': {'dates': [{'startDate': '01-01-1984', 'endDate': '12-31-2003'}], 'layers': [{'layer': 'PIXELQA', 'product': 'CU_LT05.001'}, {'layer': 'SRB1', 'product': 'CU_LT05.001'}, {'layer': 'SRB2', 'product': 'CU_LT05.001'}, {'layer': 'SRB3', 'product': 'CU_LT05.001'}, {'layer': 'SRB4', 'product': 'CU_LT05.001'}, {'layer': 'SRB5', 'product': 'CU_LT05.001'}, {'layer': 'SRB7', 'product': 'CU_LT05.001'}, {'layer': 'SRCLOUDQA', 'product': 'CU_LT05.001'}], 'output': {'format': {'type': 'geotiff'}, 'projection': 'geographic'}, 'geo': {'type': 'FeatureCollection', 'features': [{'id': '0', 'type': 'Feature', 'properties': {'FID_1': 353.0, 'h': 18, 'v': 17}, 'geometry': {'type': 'Polygon', 'coordinates': [[[-94.60619950977633, 29.94993531821042], [-93.05152714563262, 29.91905140417327], [-93.09898126986174, 28.5655861955516], [-94.6286429122954, 28.59607225553994], [-94.60619950977633, 29.94993531821042]]]}}]}}}\n",
      "{'task_id': 'c3b0b279-7a65-42aa-8330-a67653653895', 'status': 'pending'}\n",
      "pending\n",
      "{'task_type': 'area', 'task_name': 'h19_v12', 'params': {'dates': [{'startDate': '01-01-1984', 'endDate': '12-31-2003'}], 'layers': [{'layer': 'PIXELQA', 'product': 'CU_LT05.001'}, {'layer': 'SRB1', 'product': 'CU_LT05.001'}, {'layer': 'SRB2', 'product': 'CU_LT05.001'}, {'layer': 'SRB3', 'product': 'CU_LT05.001'}, {'layer': 'SRB4', 'product': 'CU_LT05.001'}, {'layer': 'SRB5', 'product': 'CU_LT05.001'}, {'layer': 'SRB7', 'product': 'CU_LT05.001'}, {'layer': 'SRCLOUDQA', 'product': 'CU_LT05.001'}], 'output': {'format': {'type': 'geotiff'}, 'projection': 'geographic'}, 'geo': {'type': 'FeatureCollection', 'features': [{'id': '0', 'type': 'Feature', 'properties': {'FID_1': 369.0, 'h': 19, 'v': 12}, 'geometry': {'type': 'Polygon', 'coordinates': [[[-92.78890461295101, 36.636228179303465], [-91.09786339951994, 36.57908783212794], [-91.18357562116937, 35.24123084020916], [-92.84510497774326, 35.29742847715524], [-92.78890461295101, 36.636228179303465]]]}}]}}}\n",
      "{'task_id': 'c23fb2bb-a229-40c2-94f7-84ab670f1d0e', 'status': 'pending'}\n",
      "pending\n",
      "{'task_type': 'area', 'task_name': 'h19_v13', 'params': {'dates': [{'startDate': '01-01-1984', 'endDate': '12-31-2003'}], 'layers': [{'layer': 'PIXELQA', 'product': 'CU_LT05.001'}, {'layer': 'SRB1', 'product': 'CU_LT05.001'}, {'layer': 'SRB2', 'product': 'CU_LT05.001'}, {'layer': 'SRB3', 'product': 'CU_LT05.001'}, {'layer': 'SRB4', 'product': 'CU_LT05.001'}, {'layer': 'SRB5', 'product': 'CU_LT05.001'}, {'layer': 'SRB7', 'product': 'CU_LT05.001'}, {'layer': 'SRCLOUDQA', 'product': 'CU_LT05.001'}], 'output': {'format': {'type': 'geotiff'}, 'projection': 'geographic'}, 'geo': {'type': 'FeatureCollection', 'features': [{'id': '0', 'type': 'Feature', 'properties': {'FID_1': 370.0, 'h': 19, 'v': 13}, 'geometry': {'type': 'Polygon', 'coordinates': [[[-92.84510497774326, 35.29742847715524], [-91.18357562116937, 35.24123084020916], [-91.2663444866223, 33.90163023005549], [-92.89937263707863, 33.95694461325491], [-92.84510497774326, 35.29742847715524]]]}}]}}}\n",
      "{'task_id': '00d04e2e-3248-4d73-a97f-89f16b29e0b3', 'status': 'pending'}\n",
      "pending\n",
      "{'task_type': 'area', 'task_name': 'h19_v14', 'params': {'dates': [{'startDate': '01-01-1984', 'endDate': '12-31-2003'}], 'layers': [{'layer': 'PIXELQA', 'product': 'CU_LT05.001'}, {'layer': 'SRB1', 'product': 'CU_LT05.001'}, {'layer': 'SRB2', 'product': 'CU_LT05.001'}, {'layer': 'SRB3', 'product': 'CU_LT05.001'}, {'layer': 'SRB4', 'product': 'CU_LT05.001'}, {'layer': 'SRB5', 'product': 'CU_LT05.001'}, {'layer': 'SRB7', 'product': 'CU_LT05.001'}, {'layer': 'SRCLOUDQA', 'product': 'CU_LT05.001'}], 'output': {'format': {'type': 'geotiff'}, 'projection': 'geographic'}, 'geo': {'type': 'FeatureCollection', 'features': [{'id': '0', 'type': 'Feature', 'properties': {'FID_1': 371.0, 'h': 19, 'v': 14}, 'geometry': {'type': 'Polygon', 'coordinates': [[[-92.89937263707863, 33.95694461325491], [-91.2663444866223, 33.90163023005549], [-91.34631892948882, 32.55964581876795], [-92.9518055693417, 32.6141324073798], [-92.89937263707863, 33.95694461325491]]]}}]}}}\n",
      "{'task_id': '321b69ae-75a9-468a-a805-de6e4da2e0ec', 'status': 'pending'}\n",
      "pending\n"
     ]
    },
    {
     "output_type": "error",
     "ename": "KeyboardInterrupt",
     "evalue": "",
     "traceback": [
      "\u001b[1;31m---------------------------------------------------------------------------\u001b[0m",
      "\u001b[1;31mKeyboardInterrupt\u001b[0m                         Traceback (most recent call last)",
      "\u001b[1;32m<ipython-input-110-c8325c950d61>\u001b[0m in \u001b[0;36m<module>\u001b[1;34m\u001b[0m\n\u001b[0;32m      6\u001b[0m \u001b[1;33m\u001b[0m\u001b[0m\n\u001b[0;32m      7\u001b[0m \u001b[1;32mfor\u001b[0m \u001b[0mi\u001b[0m \u001b[1;32min\u001b[0m \u001b[0mrange\u001b[0m\u001b[1;33m(\u001b[0m\u001b[1;36m1\u001b[0m\u001b[1;33m,\u001b[0m \u001b[1;36m75\u001b[0m\u001b[1;33m)\u001b[0m\u001b[1;33m:\u001b[0m\u001b[1;33m\u001b[0m\u001b[1;33m\u001b[0m\u001b[0m\n\u001b[1;32m----> 8\u001b[1;33m     \u001b[0mnps\u001b[0m \u001b[1;33m=\u001b[0m \u001b[0mgpd\u001b[0m\u001b[1;33m.\u001b[0m\u001b[0mread_file\u001b[0m\u001b[1;33m(\u001b[0m\u001b[0mtile_list\u001b[0m\u001b[1;33m[\u001b[0m\u001b[0mi\u001b[0m\u001b[1;33m]\u001b[0m\u001b[1;33m)\u001b[0m\u001b[1;33m\u001b[0m\u001b[1;33m\u001b[0m\u001b[0m\n\u001b[0m\u001b[0;32m      9\u001b[0m     \u001b[0mnps\u001b[0m \u001b[1;33m=\u001b[0m \u001b[0mnps\u001b[0m\u001b[1;33m.\u001b[0m\u001b[0mto_crs\u001b[0m\u001b[1;33m(\u001b[0m\u001b[1;34m\"EPSG:4326\"\u001b[0m\u001b[1;33m)\u001b[0m\u001b[1;33m\u001b[0m\u001b[1;33m\u001b[0m\u001b[0m\n\u001b[0;32m     10\u001b[0m \u001b[1;33m\u001b[0m\u001b[0m\n",
      "\u001b[1;32m~\\.conda\\envs\\GIS712\\lib\\site-packages\\geopandas\\io\\file.py\u001b[0m in \u001b[0;36m_read_file\u001b[1;34m(filename, bbox, mask, rows, **kwargs)\u001b[0m\n\u001b[0;32m    101\u001b[0m             crs = (\n\u001b[0;32m    102\u001b[0m                 \u001b[0mfeatures\u001b[0m\u001b[1;33m.\u001b[0m\u001b[0mcrs\u001b[0m\u001b[1;33m[\u001b[0m\u001b[1;34m\"init\"\u001b[0m\u001b[1;33m]\u001b[0m\u001b[1;33m\u001b[0m\u001b[1;33m\u001b[0m\u001b[0m\n\u001b[1;32m--> 103\u001b[1;33m                 \u001b[1;32mif\u001b[0m \u001b[0mfeatures\u001b[0m\u001b[1;33m.\u001b[0m\u001b[0mcrs\u001b[0m \u001b[1;32mand\u001b[0m \u001b[1;34m\"init\"\u001b[0m \u001b[1;32min\u001b[0m \u001b[0mfeatures\u001b[0m\u001b[1;33m.\u001b[0m\u001b[0mcrs\u001b[0m\u001b[1;33m\u001b[0m\u001b[1;33m\u001b[0m\u001b[0m\n\u001b[0m\u001b[0;32m    104\u001b[0m                 \u001b[1;32melse\u001b[0m \u001b[0mfeatures\u001b[0m\u001b[1;33m.\u001b[0m\u001b[0mcrs_wkt\u001b[0m\u001b[1;33m\u001b[0m\u001b[1;33m\u001b[0m\u001b[0m\n\u001b[0;32m    105\u001b[0m             )\n",
      "\u001b[1;32m~\\.conda\\envs\\GIS712\\lib\\site-packages\\fiona\\collection.py\u001b[0m in \u001b[0;36mcrs\u001b[1;34m(self)\u001b[0m\n\u001b[0;32m    205\u001b[0m         \u001b[1;34m\"\"\"Returns a Proj4 string.\"\"\"\u001b[0m\u001b[1;33m\u001b[0m\u001b[1;33m\u001b[0m\u001b[0m\n\u001b[0;32m    206\u001b[0m         \u001b[1;32mif\u001b[0m \u001b[0mself\u001b[0m\u001b[1;33m.\u001b[0m\u001b[0m_crs\u001b[0m \u001b[1;32mis\u001b[0m \u001b[1;32mNone\u001b[0m \u001b[1;32mand\u001b[0m \u001b[0mself\u001b[0m\u001b[1;33m.\u001b[0m\u001b[0msession\u001b[0m\u001b[1;33m:\u001b[0m\u001b[1;33m\u001b[0m\u001b[1;33m\u001b[0m\u001b[0m\n\u001b[1;32m--> 207\u001b[1;33m             \u001b[0mself\u001b[0m\u001b[1;33m.\u001b[0m\u001b[0m_crs\u001b[0m \u001b[1;33m=\u001b[0m \u001b[0mself\u001b[0m\u001b[1;33m.\u001b[0m\u001b[0msession\u001b[0m\u001b[1;33m.\u001b[0m\u001b[0mget_crs\u001b[0m\u001b[1;33m(\u001b[0m\u001b[1;33m)\u001b[0m\u001b[1;33m\u001b[0m\u001b[1;33m\u001b[0m\u001b[0m\n\u001b[0m\u001b[0;32m    208\u001b[0m         \u001b[1;32mreturn\u001b[0m \u001b[0mself\u001b[0m\u001b[1;33m.\u001b[0m\u001b[0m_crs\u001b[0m\u001b[1;33m\u001b[0m\u001b[1;33m\u001b[0m\u001b[0m\n\u001b[0;32m    209\u001b[0m \u001b[1;33m\u001b[0m\u001b[0m\n",
      "\u001b[1;32mfiona/ogrext.pyx\u001b[0m in \u001b[0;36mfiona.ogrext.Session.get_crs\u001b[1;34m()\u001b[0m\n",
      "\u001b[1;32m~\\.conda\\envs\\GIS712\\lib\\logging\\__init__.py\u001b[0m in \u001b[0;36mdebug\u001b[1;34m(self, msg, *args, **kwargs)\u001b[0m\n\u001b[0;32m   1419\u001b[0m         \u001b[0mlogger\u001b[0m\u001b[1;33m.\u001b[0m\u001b[0mdebug\u001b[0m\u001b[1;33m(\u001b[0m\u001b[1;34m\"Houston, we have a %s\"\u001b[0m\u001b[1;33m,\u001b[0m \u001b[1;34m\"thorny problem\"\u001b[0m\u001b[1;33m,\u001b[0m \u001b[0mexc_info\u001b[0m\u001b[1;33m=\u001b[0m\u001b[1;36m1\u001b[0m\u001b[1;33m)\u001b[0m\u001b[1;33m\u001b[0m\u001b[1;33m\u001b[0m\u001b[0m\n\u001b[0;32m   1420\u001b[0m         \"\"\"\n\u001b[1;32m-> 1421\u001b[1;33m         \u001b[1;32mif\u001b[0m \u001b[0mself\u001b[0m\u001b[1;33m.\u001b[0m\u001b[0misEnabledFor\u001b[0m\u001b[1;33m(\u001b[0m\u001b[0mDEBUG\u001b[0m\u001b[1;33m)\u001b[0m\u001b[1;33m:\u001b[0m\u001b[1;33m\u001b[0m\u001b[1;33m\u001b[0m\u001b[0m\n\u001b[0m\u001b[0;32m   1422\u001b[0m             \u001b[0mself\u001b[0m\u001b[1;33m.\u001b[0m\u001b[0m_log\u001b[0m\u001b[1;33m(\u001b[0m\u001b[0mDEBUG\u001b[0m\u001b[1;33m,\u001b[0m \u001b[0mmsg\u001b[0m\u001b[1;33m,\u001b[0m \u001b[0margs\u001b[0m\u001b[1;33m,\u001b[0m \u001b[1;33m**\u001b[0m\u001b[0mkwargs\u001b[0m\u001b[1;33m)\u001b[0m\u001b[1;33m\u001b[0m\u001b[1;33m\u001b[0m\u001b[0m\n\u001b[0;32m   1423\u001b[0m \u001b[1;33m\u001b[0m\u001b[0m\n",
      "\u001b[1;31mKeyboardInterrupt\u001b[0m: "
     ]
    }
   ]
  },
  {
   "cell_type": "code",
   "execution_count": 111,
   "metadata": {},
   "outputs": [],
   "source": []
  },
  {
   "cell_type": "code",
   "execution_count": 103,
   "metadata": {},
   "outputs": [
    {
     "output_type": "stream",
     "name": "stdout",
     "text": [
      "{'message': \"ValueError('Geometry must be in a geographic projection',)\"}\n"
     ]
    }
   ],
   "source": [
    "bundle = r.get('{}bundle/{}'.format(api,task_id)).json()  # Call API and return bundle contents for the task_id as json\n",
    "\n",
    "files = {}                                                       # Create empty dictionary\n",
    "for f in bundle['files']: files[f['file_id']] = f['file_name']   # Fill dictionary with file_id as keys and file_name as values\n",
    "\n",
    "destDir = os.path.join(\"D:\\Zekun\\Landsat_ARD\\Landsat_ARD\\wayne_ard_period2\")#, #task_name)\n",
    "if not os.path.exists(destDir) : os.makedirs(destDir)\n",
    "\n",
    "for f in files:\n",
    "    dl = r.get('{}bundle/{}/{}'.format(api, task_id, f), stream=True)           # Get a stream to the bundle file\n",
    "    filename = os.path.basename(cgi.parse_header(dl.headers['Content-Disposition'])[1]['filename'])  # Parse the name from                                  Content-Disposition header \n",
    "    filepath = os.path.join(destDir, filename)                                                       # Create output file path\n",
    "    with open(filepath, 'wb') as f:                                                                  # Write file to dest dir\n",
    "        for data in dl.iter_content(chunk_size=8192): f.write(data) \n",
    "print('Downloaded files can be found at: {}'.format(destDir)) "
   ]
  },
  {
   "cell_type": "code",
   "execution_count": null,
   "metadata": {},
   "outputs": [],
   "source": []
  }
 ]
}