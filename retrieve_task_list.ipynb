{
 "metadata": {
  "language_info": {
   "codemirror_mode": {
    "name": "ipython",
    "version": 3
   },
   "file_extension": ".py",
   "mimetype": "text/x-python",
   "name": "python",
   "nbconvert_exporter": "python",
   "pygments_lexer": "ipython3",
   "version": 3
  },
  "orig_nbformat": 2
 },
 "nbformat": 4,
 "nbformat_minor": 2,
 "cells": [
  {
   "cell_type": "code",
   "execution_count": null,
   "metadata": {},
   "outputs": [],
   "source": [
    "# the following code is used to restore the task id txt file that has been altered by running LE7 data over LT5\n",
    "\n",
    "import requests as r\n",
    "import getpass, pprint, time, os, cgi, json\n",
    "import geopandas as gpd\n",
    "\n",
    "## Enter Earth Data login Credentials\n",
    "username = \"ZekunLin\"#getpass.getpass('Earthdata Username:')\n",
    "password = \"P6Fn8T47\"#getpass.getpass('Earthdata Password:')\n",
    "\n",
    "api = 'https://lpdaacsvc.cr.usgs.gov/appeears/api/'  # Set the AρρEEARS API to a variable\n",
    "\n",
    "token_response = r.post('{}login'.format(api), auth=(username, password)).json() # Insert API URL, call login service, provide credentials & return json\n",
    "del username, password                                                           # Remove user and password information\n",
    "token_response \n",
    "\n",
    "token = token_response['token']                                                     # retrieve the existed orders in the Appeears\n",
    "response = r.get('https://lpdaacsvc.cr.usgs.gov/appeears/api/task', \n",
    "    headers={'Authorization': 'Bearer {0}'.format(token)})\n",
    "task_response = response.json()\n",
    "\n",
    "t = open(\"D:/Zekun/Landsat_ARD/Landsat_ARD/se_ard/LT5_task_id_by_tile.txt\", \"a\")    # read the list of orders\n",
    "\n",
    "\n",
    "\n",
    "for x in range(len(task_response)):\n",
    "    task_id = task_response[x]['task_id']\n",
    "    task_name = task_response[x]['task_name']\n",
    "    task_status = task_response[x]['status']\n",
    "\n",
    "    t = open(os.path.join(\"D:/Zekun/Landsat_ARD/Landsat_ARD/se_ard/\",\"LT5_task_id_by_tile.txt\"), 'a')\n",
    "    t.write(task_id + \" : \" + task_name + \" : \" + task_status + \" : \" + \"\\n\")\n",
    "    t.close()"
   ]
  }
 ]
}